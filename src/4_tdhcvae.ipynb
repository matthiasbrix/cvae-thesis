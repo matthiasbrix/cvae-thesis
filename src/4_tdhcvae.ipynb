{
 "cells": [
  {
   "cell_type": "code",
   "execution_count": null,
   "metadata": {},
   "outputs": [],
   "source": [
    "import sys\n",
    "print(sys.executable)"
   ]
  },
  {
   "cell_type": "code",
   "execution_count": null,
   "metadata": {},
   "outputs": [],
   "source": [
    "import os\n",
    "import torch\n",
    "import numpy as np\n",
    "\n",
    "# CODE FILES HERE\n",
    "from model_params import get_model_data_tdhcvae\n",
    "from models.tdhcvae.tdhcvae import Tdhcvae\n",
    "from solver import Solver\n",
    "from dataloader import DataLoader\n",
    "from directories import Directories\n",
    "from plots import plot_losses, plot_gaussian_distributions, plot_rl_kl, plot_latent_space,\\\n",
    "plot_latent_manifold, plot_faces_grid, plot_faces_samples_grid,\\\n",
    "plot_prepro_alpha_params_distribution, plot_prepro_radius_params_distribution,\\\n",
    "plot_transformed_images, plot_y_space_thetas, plot_y_space_scales\n",
    "from auxiliary import get_latent_spaces, transform_images\n",
    "from preprocessing import RandomPreprocessing, DeterministicPreprocessing\n",
    "\n",
    "# SETTINGS HERE\n",
    "os.environ['CUDA_LAUNCH_BLOCKING'] = \"1\" # to see the CUDA stack\n",
    "%matplotlib inline\n",
    "# for auto-reloading external modules\n",
    "# see http://stackoverflow.com/questions/1907993/autoreload-of-modules-in-ipython\n",
    "%load_ext autoreload\n",
    "%autoreload 2\n",
    "# supress cluttering warnings in solutions\n",
    "import warnings\n",
    "warnings.filterwarnings('ignore')"
   ]
  },
  {
   "cell_type": "code",
   "execution_count": null,
   "metadata": {},
   "outputs": [],
   "source": [
    "# setting device on GPU if available, else CPU\n",
    "device = torch.device('cuda:0' if torch.cuda.is_available() else 'cpu')\n",
    "print('Using device:', device)\n",
    "print()\n",
    "\n",
    "# Additional Info when using cuda\n",
    "if device.type == 'cuda':\n",
    "    print(torch.cuda.get_device_name(0))\n",
    "    print('Memory Usage:')\n",
    "    print('Allocated:', round(torch.cuda.memory_allocated(0)/1024**3,1), 'GB')\n",
    "    print('Cached:   ', round(torch.cuda.memory_cached(0)/1024**3,1), 'GB')"
   ]
  },
  {
   "cell_type": "code",
   "execution_count": null,
   "metadata": {},
   "outputs": [],
   "source": [
    "dataset_arg = \"lungscans\"\n",
    "data = get_model_data_tdhcvae(dataset_arg)"
   ]
  },
  {
   "cell_type": "code",
   "execution_count": null,
   "metadata": {
    "scrolled": true
   },
   "outputs": [],
   "source": [
    "directories = Directories(\"tdcvae\", dataset_arg.lower(), data[\"z_dim\"], make_dirs=False)\n",
    "data_loader = DataLoader(directories, data[\"batch_size\"], dataset_arg.lower(), resize=data[\"resize\"])\n",
    "model = Tdhcvae(data[\"z_dim\"], data[\"beta\"])\n",
    "solver = Solver(model, data_loader, data[\"optimizer\"], data[\"epochs\"], data[\"optim_config\"], step_config=data[\"step_config\"],\\\n",
    "                lr_scheduler=data[\"lr_scheduler\"], tdhcvae_mode=True, save_model_state=False)\n",
    "solver.main()"
   ]
  },
  {
   "cell_type": "code",
   "execution_count": null,
   "metadata": {},
   "outputs": [],
   "source": [
    "#Uncomment to load a model to continue training.\n",
    "#solver = torch.load(\"../results/tdcvae/MNIST_z=2_0/model_state.pt\")\n",
    "#solver.main()"
   ]
  },
  {
   "cell_type": "code",
   "execution_count": null,
   "metadata": {},
   "outputs": [],
   "source": [
    "#Uncomment to load a trained model for inference.\n",
    "#solver = torch.load(\"../../result_instance_2/tdcvae/MNIST_z=2_12/model_state.pt\", map_location='cpu')\n",
    "#solver.model.eval()\n",
    "#solver.data_loader.directories.make_dirs = False"
   ]
  },
  {
   "cell_type": "code",
   "execution_count": null,
   "metadata": {},
   "outputs": [],
   "source": [
    "# Plotting train and test losses for all epochs\n",
    "plot_losses(solver, solver.train_loss_history[\"train_loss_acc\"], solver.test_loss_history)"
   ]
  },
  {
   "cell_type": "code",
   "execution_count": null,
   "metadata": {},
   "outputs": [],
   "source": [
    "# Plotting the gaussian of z space and some metrics about the space\n",
    "plot_gaussian_distributions(solver, len(solver.train_loss_history[\"train_loss_acc\"]))"
   ]
  },
  {
   "cell_type": "code",
   "execution_count": null,
   "metadata": {},
   "outputs": [],
   "source": [
    "# Monitoring the reconstruction loss (likelihood lower bound) and KL divergence\n",
    "DEBUG = 1\n",
    "if DEBUG:\n",
    "    for epoch, train_loss, test_loss, rl, kl in zip(solver.train_loss_history[\"epochs\"], \\\n",
    "        solver.train_loss_history[\"train_loss_acc\"], solver.test_loss_history, \\\n",
    "        solver.train_loss_history[\"recon_loss_acc\"], solver.train_loss_history[\"kl_diverg_acc\"]):\n",
    "        print(\"epoch: {}, train_loss: {:.2f}, test_loss: {:.2f}, recon. loss: {:.2f}, KL div.: {:.2f}\".format(\n",
    "            epoch, train_loss, test_loss, rl, kl))\n",
    "plot_rl_kl(solver, solver.train_loss_history[\"recon_loss_acc\"], solver.train_loss_history[\"kl_diverg_acc\"])"
   ]
  },
  {
   "cell_type": "code",
   "execution_count": null,
   "metadata": {},
   "outputs": [],
   "source": [
    "last_train_loss = solver.train_loss_history[\"train_loss_acc\"][-1]\n",
    "mode = \"\"\n",
    "if solver.data_loader.directories.make_dirs:\n",
    "    if solver.data_loader.thetas and solver.data_loader.scales:\n",
    "        mode = \"SCALES_THETAS_\"\n",
    "    elif solver.data_loader.thetas:\n",
    "        mode += \"THETAS_\"\n",
    "    elif solver.data_loader.scales:\n",
    "        mode += \"SCALES_\"\n",
    "torch.save(solver, solver.data_loader.directories.result_dir + \"/model_TD_CVAE_\" + mode + solver.data_loader.dataset + \"_train_loss=\" + \"{0:.2f}\".format(last_train_loss) + \"_z=\" + str(solver.model.z_dim) + \".pt\")"
   ]
  },
  {
   "cell_type": "code",
   "execution_count": null,
   "metadata": {},
   "outputs": [],
   "source": []
  }
 ],
 "metadata": {
  "kernelspec": {
   "display_name": "Python [conda env:lungscans]",
   "language": "python",
   "name": "conda-env-lungscans-py"
  },
  "language_info": {
   "codemirror_mode": {
    "name": "ipython",
    "version": 3
   },
   "file_extension": ".py",
   "mimetype": "text/x-python",
   "name": "python",
   "nbconvert_exporter": "python",
   "pygments_lexer": "ipython3",
   "version": "3.6.8"
  }
 },
 "nbformat": 4,
 "nbformat_minor": 2
}
