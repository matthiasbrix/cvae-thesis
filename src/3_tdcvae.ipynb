{
 "cells": [
  {
   "cell_type": "code",
   "execution_count": null,
   "metadata": {},
   "outputs": [],
   "source": [
    "import os\n",
    "import torch\n",
    "import numpy as np\n",
    "\n",
    "# CODE FILES HERE\n",
    "from models.tdcvae.tdcvae import Encoder, Decoder, TD_Cvae, PATH\n",
    "from solver import Solver\n",
    "from dataloader import DataLoader\n",
    "from preprocessing import Preprocessing\n",
    "from plot import plot_losses, plot_gaussian_distributions, plot_rl_kl, plot_latent_space,\\\n",
    "plot_latent_manifold, plot_prepro_params_distribution, plot_prepro_params_distribution_categories,\\\n",
    "plot_faces_grid, plot_faces_samples_grid\n",
    "\n",
    "# SETTINGS HERE\n",
    "os.environ['CUDA_LAUNCH_BLOCKING'] = \"1\" # to see the CUDA stack\n",
    "%matplotlib inline\n",
    "# for auto-reloading external modules\n",
    "# see http://stackoverflow.com/questions/1907993/autoreload-of-modules-in-ipython\n",
    "%load_ext autoreload\n",
    "%autoreload 2\n",
    "# supress cluttering warnings in solutions\n",
    "import warnings\n",
    "warnings.filterwarnings('ignore')"
   ]
  },
  {
   "cell_type": "code",
   "execution_count": null,
   "metadata": {},
   "outputs": [],
   "source": [
    "# setting device on GPU if available, else CPU\n",
    "device = torch.device('cuda:0' if torch.cuda.is_available() else 'cpu')\n",
    "print('Using device:', device)\n",
    "print()\n",
    "\n",
    "# Additional Info when using cuda\n",
    "if device.type == 'cuda':\n",
    "    print(torch.cuda.get_device_name(0))\n",
    "    print('Memory Usage:')\n",
    "    print('Allocated:', round(torch.cuda.memory_allocated(0)/1024**3,1), 'GB')\n",
    "    print('Cached:   ', round(torch.cuda.memory_cached(0)/1024**3,1), 'GB')"
   ]
  },
  {
   "cell_type": "code",
   "execution_count": null,
   "metadata": {},
   "outputs": [],
   "source": [
    "# Choose the dataset and tune hyperparameters here!\n",
    "dataset = \"MNIST\"\n",
    "\n",
    "batch_size = 128\n",
    "optimizer = torch.optim.Adam\n",
    "\n",
    "if dataset == \"MNIST\":\n",
    "    epochs = 5\n",
    "    hidden_dim_enc = 500\n",
    "    z_dim = 2\n",
    "    beta = 1 if z_dim == 2 else 1\n",
    "    lr_scheduler = torch.optim.lr_scheduler.StepLR\n",
    "    step_config = {\n",
    "        \"step_size\" : 200,\n",
    "        \"gamma\" : 0.1 # or 0.75\n",
    "    }\n",
    "    optim_config = {\n",
    "        \"lr\": 1e-3,\n",
    "        \"weight_decay\": None\n",
    "    }\n",
    "    thetas = {\n",
    "        \"theta_1\": [-180, 180],\n",
    "        \"theta_2\": [-30, 30]\n",
    "    }\n",
    "    scales = {\n",
    "        \"scale_1\": [0.5, 0.9],\n",
    "        \"scale_2\": [0.2, 0.4]\n",
    "    }"
   ]
  },
  {
   "cell_type": "code",
   "execution_count": null,
   "metadata": {},
   "outputs": [],
   "source": [
    "data_loader = DataLoader(PATH, batch_size, dataset, z_dim)\n",
    "prepro = Preprocessing(data_loader, thetas=thetas)\n",
    "model = TD_Cvae(data_loader.input_dim, hidden_dim_enc, data_loader.input_dim, z_dim)\n",
    "solver = Solver(model, data_loader, optimizer, z_dim, epochs, beta, step_config, optim_config, lr_scheduler=lr_scheduler, tdcvae_mode=True, prepro=prepro)\n",
    "solver.main()"
   ]
  },
  {
   "cell_type": "code",
   "execution_count": null,
   "metadata": {},
   "outputs": [],
   "source": [
    "# solver = torch.load(\"../results/saved_models/model_TD_CVAE_MNIST_train_loss=92.18_z=2.pt\", map_location='cpu')\n",
    "# solver.model.eval()"
   ]
  },
  {
   "cell_type": "code",
   "execution_count": null,
   "metadata": {},
   "outputs": [],
   "source": [
    "# Plotting train and test losses for all epochs\n",
    "plot_losses(solver)"
   ]
  },
  {
   "cell_type": "code",
   "execution_count": null,
   "metadata": {},
   "outputs": [],
   "source": [
    "# Plotting the gaussian of z space and some metrics about the space\n",
    "plot_gaussian_distributions(solver)"
   ]
  },
  {
   "cell_type": "code",
   "execution_count": null,
   "metadata": {},
   "outputs": [],
   "source": [
    "# Monitoring the reconstruction loss (likelihood lower bound) and KL divergence\n",
    "DEBUG = 0\n",
    "if DEBUG:\n",
    "    for epoch, train_loss, test_loss, rl, kl in zip(solver.train_loss_history[\"epochs\"], \\\n",
    "        solver.train_loss_history[\"train_loss_acc\"], solver.test_loss_history, \\\n",
    "        solver.train_loss_history[\"recon_loss_acc\"], solver.train_loss_history[\"kl_diverg_acc\"]):\n",
    "        print(\"epoch: {}, train_loss: {:.2f}, test_loss: {:.2f}, recon. loss: {:.2f}, KL div.: {:.2f}\".format(\n",
    "            epoch, train_loss, test_loss, rl, kl))\n",
    "        print(\"overfitting: {:.2f}\".format(abs(test_loss-train_loss)))\n",
    "plot_rl_kl(solver)"
   ]
  },
  {
   "cell_type": "code",
   "execution_count": null,
   "metadata": {},
   "outputs": [],
   "source": [
    "# visualize q(z) (latent space z)\n",
    "if solver.z_dim == 2:\n",
    "    for key in solver.prepro.prepro_params.keys():\n",
    "        if key == \"theta_diff\" or key == \"scale_diff\":\n",
    "            z_space_labels = np.repeat(solver.prepro.prepro_params[key], solver.data_loader.batch_size)\n",
    "            if key == \"theta_diff\":\n",
    "                ticks = np.arange(solver.prepro.theta_range_2[0], solver.prepro.theta_range_2[1]+1, 10).tolist()\n",
    "            if key == \"scale_diff\":\n",
    "                ticks = np.arange(solver.prepro.scale_range_2[0], solver.prepro.scale_range_2[1]+0.1, 0.1).tolist()\n",
    "            plot_latent_space(solver, solver.z_space, ticks, \"z\", key.split(\"_\")[0], z_space_labels)\n",
    "    if not solver.tdcvae_mode:\n",
    "        if solver.data_loader.with_labels:\n",
    "            plot_latent_space(solver, solver.z_space, var=\"z\", labels=solver.data_labels)\n",
    "        else:\n",
    "            plot_latent_space(solver, solver.z_space, var=\"z\")\n",
    "else:\n",
    "    print(\"Plot of latent space not possible as dimension of z is not 2\")"
   ]
  },
  {
   "cell_type": "code",
   "execution_count": null,
   "metadata": {},
   "outputs": [],
   "source": [
    "# visualize q(y)\n",
    "if solver.z_dim == 2:\n",
    "    for key in solver.prepro.prepro_params.keys():\n",
    "        if key == \"theta_1\" or key == \"scale_1\":\n",
    "            y_space_labels = np.repeat(solver.prepro.prepro_params[key], solver.data_loader.batch_size)\n",
    "            if key == \"theta_1\":\n",
    "                ticks = np.arange(solver.prepro.theta_range_1[0], solver.prepro.theta_range_1[1]+1, 30).tolist()\n",
    "            if key == \"scale_1\":\n",
    "                ticks = np.arange(solver.prepro.scale_range_1[0], solver.prepro.scale_range_1[1]+0.1, 0.1).tolist()\n",
    "            plot_latent_space(solver, solver.y_space, ticks, \"y\", key.split(\"_\")[0], y_space_labels)\n",
    "else:\n",
    "    print(\"Plot of y space not possible as dimension of z is not 2\")"
   ]
  },
  {
   "cell_type": "code",
   "execution_count": null,
   "metadata": {},
   "outputs": [],
   "source": [
    "# Visualizations of learned data manifold for generative models with two-dimensional latent space\n",
    "if solver.z_dim == 2:\n",
    "    n = 11\n",
    "    grid_x = np.linspace(-5, 5, n)\n",
    "    grid_y = np.linspace(-5, 5, n)\n",
    "    x_t = iter(solver.data_loader.train_loader).next()[0][0]\n",
    "    x_t, _ = solver.prepro.preprocess_batch(x_t.view(1, *x_t.shape))\n",
    "    plot_latent_manifold(solver, \"bone\", grid_x, grid_y, n, x_t=x_t)\n",
    "else:\n",
    "    print(\"Plot is not possible as dimension of z is not 2\")"
   ]
  },
  {
   "cell_type": "code",
   "execution_count": null,
   "metadata": {},
   "outputs": [],
   "source": [
    "# Bar chart over the different theta_1/scale_1 used for y_t\n",
    "# TODO: loop over solver.prepro.prepro_params.keys\n",
    "xticks = np.arange(solver.prepro.theta_range_1[0], solver.prepro.theta_range_1[1]+1, 30)\n",
    "plot_prepro_params_distribution(solver, xticks, \"theta_1\", \"Angle distribution for y_t\")"
   ]
  },
  {
   "cell_type": "code",
   "execution_count": null,
   "metadata": {},
   "outputs": [],
   "source": [
    "# distribution of angles/scales with categeries/classes of dataset as bins\n",
    "# TODO: loop over solver.prepro.prepro_params.keys\n",
    "plot_prepro_params_distribution_categories(solver, \"Distribution of angles\")"
   ]
  },
  {
   "cell_type": "code",
   "execution_count": null,
   "metadata": {},
   "outputs": [],
   "source": [
    "last_train_loss = solver.train_loss_history[\"train_loss_acc\"][-1]\n",
    "torch.save(solver, solver.data_loader.result_dir + \"/model_TD_CVAE_\" + solver.data_loader.dataset + \"_train_loss=\" + \"{0:.2f}\".format(last_train_loss) + \"_z=\" + str(solver.z_dim) + \".pt\")"
   ]
  },
  {
   "cell_type": "code",
   "execution_count": null,
   "metadata": {},
   "outputs": [],
   "source": []
  }
 ],
 "metadata": {
  "kernelspec": {
   "display_name": "Python 3",
   "language": "python",
   "name": "python3"
  },
  "language_info": {
   "codemirror_mode": {
    "name": "ipython",
    "version": 3
   },
   "file_extension": ".py",
   "mimetype": "text/x-python",
   "name": "python",
   "nbconvert_exporter": "python",
   "pygments_lexer": "ipython3",
   "version": "3.6.8"
  }
 },
 "nbformat": 4,
 "nbformat_minor": 2
}
