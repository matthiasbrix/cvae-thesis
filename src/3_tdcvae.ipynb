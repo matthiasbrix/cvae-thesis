{
 "cells": [
  {
   "cell_type": "code",
   "execution_count": null,
   "metadata": {},
   "outputs": [],
   "source": [
    "import os\n",
    "import torch\n",
    "import numpy as np\n",
    "\n",
    "# CODE FILES HERE\n",
    "from model_params import get_model_data_tdcvae\n",
    "from models.tdcvae.tdcvae import TD_Cvae\n",
    "from solver import Solver\n",
    "from dataloader import DataLoader\n",
    "from directories import Directories\n",
    "from plots import plot_losses, plot_gaussian_distributions, plot_rl_kl, plot_latent_space,\\\n",
    "plot_latent_manifold, plot_prepro_alpha_params_distribution, plot_prepro_radius_params_distribution,\\\n",
    "plot_transformed_images, plot_y_space_thetas, plot_y_space_scales\n",
    "from auxiliary import get_latent_spaces, produce_ys, produce_ys_zs\n",
    "from preprocessing import RandomPreprocessing, preprocess_batch_det\n",
    "\n",
    "# SETTINGS HERE\n",
    "os.environ['CUDA_LAUNCH_BLOCKING'] = \"1\" # to see the CUDA stack\n",
    "%matplotlib inline\n",
    "# for auto-reloading external modules\n",
    "# see http://stackoverflow.com/questions/1907993/autoreload-of-modules-in-ipython\n",
    "%load_ext autoreload\n",
    "%autoreload 2\n",
    "# supress cluttering warnings in solutions\n",
    "import warnings\n",
    "warnings.filterwarnings('ignore')"
   ]
  },
  {
   "cell_type": "code",
   "execution_count": null,
   "metadata": {},
   "outputs": [],
   "source": [
    "# setting device on GPU if available, else CPU\n",
    "device = torch.device('cuda:0' if torch.cuda.is_available() else 'cpu')\n",
    "print('Using device:', device)\n",
    "print()\n",
    "\n",
    "# Additional Info when using cuda\n",
    "if device.type == 'cuda':\n",
    "    print(torch.cuda.get_device_name(0))\n",
    "    print('Memory Usage:')\n",
    "    print('Allocated:', round(torch.cuda.memory_allocated(0)/1024**3,1), 'GB')\n",
    "    print('Cached:   ', round(torch.cuda.memory_cached(0)/1024**3,1), 'GB')"
   ]
  },
  {
   "cell_type": "code",
   "execution_count": null,
   "metadata": {},
   "outputs": [],
   "source": [
    "# only mnist available\n",
    "dataset_arg = \"mnist\"\n",
    "data = get_model_data_tdcvae(dataset_arg)"
   ]
  },
  {
   "cell_type": "code",
   "execution_count": null,
   "metadata": {
    "scrolled": true
   },
   "outputs": [],
   "source": [
    "directories = Directories(\"tdcvae\", dataset_arg.lower(), data[\"z_dim\"], make_dirs=False)\n",
    "data_loader = DataLoader(directories, data[\"batch_size\"], dataset_arg.lower(), thetas=data[\"thetas\"], scales=data[\"scales\"])\n",
    "model = TD_Cvae(data_loader.input_dim, data_loader.input_dim, data[\"z_dim\"], data[\"beta\"], rotations=True, scaling=True)\n",
    "solver = Solver(model, data_loader, data[\"optimizer\"], data[\"epochs\"], data[\"optim_config\"], step_config=data[\"step_config\"],\\\n",
    "                lr_scheduler=data[\"lr_scheduler\"], tdcvae_mode=True, save_model_state=False)\n",
    "solver.main()"
   ]
  },
  {
   "cell_type": "code",
   "execution_count": null,
   "metadata": {},
   "outputs": [],
   "source": [
    "# Uncomment to load a model to continue training.\n",
    "#solver = torch.load(\"../results/tdcvae/MNIST_z=2_0/model_state.pt\")\n",
    "#solver.main()"
   ]
  },
  {
   "cell_type": "code",
   "execution_count": null,
   "metadata": {},
   "outputs": [],
   "source": [
    "# Uncomment to load a trained model for inference.\n",
    "solver = torch.load(\"../../results/results_slurm/test_thing2/0/model_state.pt\", map_location='cpu')\n",
    "#solver = torch.load(\"../../results/TEST2/model_state.pt\", map_location='cpu')\n",
    "solver.model.eval()\n",
    "solver.data_loader.dataset = solver.data_loader.dataset.lower()\n",
    "#solver.data_loader.directories.make_dirs = \"../../results/TEST2/\"\n",
    "#solver.data_loader.directories.result_dir = \"../../results/TEST2/\"\n",
    "#solver.data_loader.directories.make_dirs = \"../../results_slurm/test_thing2/mnist_z=2_0/\"\n",
    "#solver.data_loader.directories.result_dir = \"../../results_slurm/test_thing2/\"\n",
    "solver.data_loader.directories.make_dirs = \"../../results/results_slurm/test_thing2/0/\"\n",
    "solver.data_loader.directories.result_dir = \"../../results/results_slurm/test_thing2/0/\"\n",
    "print(solver.data_loader.thetas, solver.data_loader.scales)\n",
    "rotations = solver.data_loader.thetas is not None\n",
    "scaling = solver.data_loader.scales is not None\n",
    "print(rotations, scaling)\n",
    "model = TD_Cvae(784, 784, 2, solver.model.beta, rotations=rotations, scaling=scaling)\n",
    "model.encoder.load_state_dict(solver.model.encoder.state_dict())\n",
    "model.decoder.load_state_dict(solver.model.decoder.state_dict())"
   ]
  },
  {
   "cell_type": "code",
   "execution_count": null,
   "metadata": {
    "scrolled": true
   },
   "outputs": [],
   "source": [
    "# Plotting train and test losses for all epochs\n",
    "plot_losses(solver, solver.train_loss_history[\"train_loss_acc\"], solver.test_loss_history)"
   ]
  },
  {
   "cell_type": "code",
   "execution_count": null,
   "metadata": {},
   "outputs": [],
   "source": [
    "# Plotting the gaussian of z space and some metrics about the space\n",
    "plot_gaussian_distributions(solver, len(solver.train_loss_history[\"train_loss_acc\"]))"
   ]
  },
  {
   "cell_type": "code",
   "execution_count": null,
   "metadata": {},
   "outputs": [],
   "source": [
    "# Monitoring the reconstruction loss (likelihood lower bound) and KL divergence\n",
    "DEBUG = 1\n",
    "if DEBUG:\n",
    "    for epoch, train_loss, test_loss, rl, kl in zip(solver.train_loss_history[\"epochs\"], \\\n",
    "        solver.train_loss_history[\"train_loss_acc\"], solver.test_loss_history, \\\n",
    "        solver.train_loss_history[\"recon_loss_acc\"], solver.train_loss_history[\"kl_diverg_acc\"]):\n",
    "        print(\"epoch: {}, train_loss: {:.2f}, test_loss: {:.2f}, recon. loss: {:.2f}, KL div.: {:.2f}\".format(\n",
    "            epoch, train_loss, test_loss, rl, kl))\n",
    "plot_rl_kl(solver, solver.train_loss_history[\"recon_loss_acc\"], solver.train_loss_history[\"kl_diverg_acc\"])"
   ]
  },
  {
   "cell_type": "code",
   "execution_count": null,
   "metadata": {},
   "outputs": [],
   "source": [
    "# defaults settings that are hardcoded in the code in case someone does run tdcvae but not provides theta/scale parameters\n",
    "if solver.data_loader.thetas:\n",
    "    if solver.data_loader.thetas[\"theta_1\"] is None or solver.data_loader.thetas[\"theta_2\"] is None:\n",
    "        theta_range_1 = [-np.pi, np.pi]\n",
    "        theta_range_2 = [-np.pi/4, np.pi/4]\n",
    "    else:\n",
    "        theta_range_1 = solver.data_loader.thetas[\"theta_1\"]\n",
    "        theta_range_2 = solver.data_loader.thetas[\"theta_2\"]\n",
    "if solver.data_loader.scales:\n",
    "    if solver.data_loader.scales[\"scale_1\"] is None or solver.data_loader.scales[\"scale_2\"] is None:\n",
    "        scale_range_1 = [0.85, 1.15]\n",
    "        scale_range_2 = [-0.15, 0.15]\n",
    "    else:\n",
    "        scale_range_1 = solver.data_loader.scales[\"scale_1\"]\n",
    "        scale_range_2 = solver.data_loader.scales[\"scale_2\"]"
   ]
  },
  {
   "cell_type": "code",
   "execution_count": null,
   "metadata": {},
   "outputs": [],
   "source": [
    "# make random transformations\n",
    "num_test_samples = solver.data_loader.num_test_samples # put like 1000 if sample with single data point / specific class\n",
    "if solver.data_loader.thetas and solver.data_loader.scales:\n",
    "    rand_transformation = RandomPreprocessing(num_test_samples, solver.data_loader.img_dims,\\\n",
    "                                    theta_range_1, theta_range_2,\\\n",
    "                                    scale_range_1, scale_range_2)\n",
    "elif solver.data_loader.thetas:\n",
    "    rand_transformation = RandomPreprocessing(num_test_samples, solver.data_loader.img_dims,\\\n",
    "                                    theta_range_1=theta_range_1, theta_range_2=theta_range_2)\n",
    "elif solver.data_loader.scales:\n",
    "    rand_transformation = RandomPreprocessing(num_test_samples, solver.data_loader.img_dims,\\\n",
    "                                    scale_range_1=scale_range_1, scale_range_2=scale_range_2)\n",
    "mode = \"tdcvae\"\n",
    "single_point_sampler = (\"single_point\", num_test_samples)\n",
    "specific_class_sampler = (\"specific_class\", 1, num_test_samples)\n",
    "test_loader = solver.data_loader.get_new_test_data_loader() # insert one of the samplers above if want to use it\n",
    "z_space, y_space, _ = get_latent_spaces(model, mode, test_loader, num_test_samples,\\\n",
    "                                        solver.model.z_dim, int(num_test_samples/len(test_loader)),\\\n",
    "                                        solver.data_loader.with_labels,\\\n",
    "                                        solver.data_loader.input_dim, rand_transformation)"
   ]
  },
  {
   "cell_type": "code",
   "execution_count": null,
   "metadata": {},
   "outputs": [],
   "source": [
    "if solver.data_loader.thetas:\n",
    "    theta_ticks_y = np.arange(np.degrees(theta_range_1[0]), np.degrees(theta_range_1[1])+1, 30).tolist()\n",
    "    theta_ticks_z = np.arange(np.degrees(theta_range_2[0]), np.degrees(theta_range_2[1])+1, 10).tolist()\n",
    "if solver.data_loader.scales:\n",
    "    scale_ticks_y = np.linspace(scale_range_1[0], scale_range_1[1], 13).tolist()\n",
    "    scale_ticks_z = np.linspace(scale_range_2[0], scale_range_2[1], 4).tolist()"
   ]
  },
  {
   "cell_type": "code",
   "execution_count": null,
   "metadata": {},
   "outputs": [],
   "source": [
    "# visualize q(z) (latent space z)\n",
    "if solver.model.z_dim == 2 and solver.data_loader.thetas or solver.data_loader.scales:\n",
    "    bs = solver.data_loader.batch_size\n",
    "    print(\"\\mu(z_1)={}, var(z_1)={}\".format(np.mean(z_space[:, 0]), np.var(z_space[:, 0])))\n",
    "    print(\"\\mu(z_2)={}, var(z_2)={}\".format(np.mean(z_space[:, 1]), np.var(z_space[:, 1])))\n",
    "    print(\"\\mu(z_1|x)={}, var(z_1|x)={}\".format(np.mean(z_space[:bs, 0]), np.var(z_space[:bs, 0])))\n",
    "    print(\"\\mu(z_2|x)={}, var(z_2|x)={}\".format(np.mean(z_space[:bs, 1]), np.var(z_space[:bs, 1])))\n",
    "    if solver.data_loader.thetas:\n",
    "        labels = np.degrees(rand_transformation.prepro_params[\"theta_diff\"]).tolist()\n",
    "        plot_latent_space(solver, z_space, ticks=theta_ticks_z, var=\"z\", title=\"theta\", labels=labels,\\\n",
    "                          colors=len(theta_ticks_z)-1)\n",
    "    if solver.data_loader.scales:\n",
    "        labels = rand_transformation.prepro_params[\"scale_diff\"].tolist()\n",
    "        plot_latent_space(solver, z_space, ticks=scale_ticks_z, var=\"z\", title=\"scale\", labels=labels,\\\n",
    "                          colors=len(scale_ticks_z)-1, transpose=False)\n",
    "else:\n",
    "    print(\"Plot of latent space not possible as dimension of z is not 2\")"
   ]
  },
  {
   "cell_type": "code",
   "execution_count": null,
   "metadata": {
    "scrolled": true
   },
   "outputs": [],
   "source": [
    "# Visualize q(y)\n",
    "if solver.model.z_dim == 2 and solver.data_loader.thetas or solver.data_loader.scales:\n",
    "    bs = solver.data_loader.batch_size\n",
    "    print(\"\\mu(y_1)={}, var(y_1)={}\".format(np.mean(y_space[0:bs, 0]), np.var(y_space[0:bs, 0])))\n",
    "    print(\"\\mu(y_2)={}, var(y_2)={}\".format(np.mean(y_space[0:bs, 1]), np.var(y_space[0:bs, 1])))\n",
    "    print(\"\\mu(y_1|x)={}, var(y_1|x)={}\".format(np.mean(y_space[:, 0]), np.var(y_space[:, 0])))\n",
    "    print(\"\\mu(y_2|x)={}, var(y_2|x)={}\".format(np.mean(y_space[:, 1]), np.var(y_space[:, 1])))\n",
    "    if solver.data_loader.thetas:\n",
    "        labels = np.degrees(rand_transformation.prepro_params[\"theta_1\"]).tolist()\n",
    "        plot_latent_space(solver, y_space, ticks=theta_ticks_y, var=\"y\", title=\"theta\", labels=labels)\n",
    "    if solver.data_loader.scales:\n",
    "        labels = rand_transformation.prepro_params[\"scale_1\"].tolist()\n",
    "        plot_latent_space(solver, y_space, ticks=scale_ticks_y, var=\"y\", title=\"scale\", labels=labels, transpose=False)\n",
    "else:\n",
    "    print(\"Plot of latent space not possible as dimension of z is not 2\")"
   ]
  },
  {
   "cell_type": "code",
   "execution_count": null,
   "metadata": {
    "scrolled": false
   },
   "outputs": [],
   "source": [
    "# Visualizations of learned q(z) for generative models with two-dimensional latent space\n",
    "if solver.model.z_dim == 2:\n",
    "    n = 11\n",
    "    if solver.data_loader.thetas and solver.data_loader.scales:\n",
    "        grid_x = np.linspace(-2, 2, n)\n",
    "        grid_y = np.linspace(-2, 2, n)\n",
    "    elif solver.data_loader.thetas:\n",
    "        grid_x = np.linspace(-2, 2, n)\n",
    "        grid_y = np.linspace(-2, 2, n)\n",
    "    elif solver.data_loader.scales:\n",
    "        grid_x = np.linspace(-2, 2, n)\n",
    "        grid_y = np.linspace(-1, -10, n)\n",
    "    test_loader = solver.data_loader.get_new_test_data_loader()\n",
    "    x_t, class_labels = iter(test_loader).next()\n",
    "    x_t, _ = rand_transformation.preprocess_samples(x_t, save=False)\n",
    "    for i in range(3):\n",
    "        plot_latent_manifold(model.decoder, solver, \"bone\", grid_x, grid_y, n=n, x_t=x_t[i].view(1, 784),\\\n",
    "                             label=class_labels[i], center_rect=(solver.data_loader.scales is None))\n",
    "else:\n",
    "    print(\"Plot is not possible as dimension of z is not 2 or model is loaded\")"
   ]
  },
  {
   "cell_type": "code",
   "execution_count": null,
   "metadata": {},
   "outputs": [],
   "source": [
    "# Experiments to check the z space for e.g. a single sample and then see from what the sample are drawn.\n",
    "if solver.model.z_dim == 2:\n",
    "    num_samples = 1\n",
    "    #single_point_sampler = (\"single_point\", num_samples)\n",
    "    specific_class_sampler = (\"specific_class\", 7, num_samples)\n",
    "    test_loader = solver.data_loader.get_new_test_data_loader(specific_class_sampler)\n",
    "    x, labels = iter(test_loader).next()\n",
    "    x_t = torch.zeros((num_samples, 1, 28, 28))\n",
    "    for idx, x in enumerate(test_loader):\n",
    "        x, label = x[0], x[1]\n",
    "        x_t[idx] = x\n",
    "    x_next = x_t[:num_samples].clone().detach()\n",
    "    scales_1 = np.linspace(1.0, 1.0, 1)\n",
    "    scales_2 = np.linspace(1.0, 1.0, 1)\n",
    "    thetas_1 = np.linspace(np.radians(0), np.radians(0), 100)\n",
    "    thetas_2 = np.linspace(-np.pi/4, np.pi/4, 100)\n",
    "    ys1, zs1 = produce_ys_zs(model, x_t.shape[0], x_t.view(-1, 784).numpy(), scales_1, thetas_1, x_next.view(-1, 784).numpy(), scales_2, thetas_2)\n",
    "    ys1 = np.reshape(ys1, (np.prod(ys1.shape[:-1]), 2))\n",
    "    zs1 = np.reshape(zs1, (np.prod(zs1.shape[:-1]), 2))\n",
    "    x_t = preprocess_batch_det(x_t[0:1], thetas_1, scales_1)\n",
    "    x_t = torch.FloatTensor(x_t).view(1, solver.data_loader.input_dim)\n",
    "    n = 11\n",
    "    grid_x = np.linspace(-2, 2, n)\n",
    "    grid_y = np.linspace(-2, 2, n)\n",
    "    #grid_x = np.linspace(np.min(zs1[:, 0]), np.max(zs1[:, 0]), n)\n",
    "    #grid_y = np.linspace(np.min(zs1[:, 1]), np.max(zs1[:, 1]), n)\n",
    "    #plot_latent_space(solver, ys1, ticks=theta_ticks_y, var=\"y\", title=\"theta\",\\\n",
    "    #                  labels=np.repeat(np.degrees(thetas_1), num_samples), xticks=grid_x, yticks=grid_y)\n",
    "    plot_latent_space(solver, zs1, ticks=theta_ticks_z, var=\"z\", title=\"theta\",\\\n",
    "                      labels=np.repeat(np.degrees(thetas_2), num_samples), xticks=grid_x, yticks=grid_y,\\\n",
    "                      colors=len(theta_ticks_z)-1)\n",
    "    #plot_latent_space(solver, zs1, ticks=theta_ticks_z, var=\"z\", title=\"theta\",\\\n",
    "    #                  labels=np.repeat(np.degrees(scales_2), num_samples), xticks=grid_x, yticks=grid_y,\\\n",
    "    #                  colors=len(scale_ticks_z)-1)\n",
    "    plot_latent_manifold(model.decoder, solver, \"bone\", grid_x, grid_y, n=n, x_t=x_t, label=label,\\\n",
    "                         zdata=(zs1, np.repeat(np.degrees(thetas_2), num_samples), len(theta_ticks_z)-1))"
   ]
  },
  {
   "cell_type": "code",
   "execution_count": null,
   "metadata": {},
   "outputs": [],
   "source": [
    "# show how the transformation actually produces results in practice.\n",
    "test_loader = solver.data_loader.get_new_test_data_loader()\n",
    "file_name = solver.data_loader.directories.result_dir + \"/plot_transformed_images_\"\\\n",
    "            + solver.data_loader.dataset + \".png\"\n",
    "plot_transformed_images(test_loader, solver.data_loader.batch_size, save_plot=solver.data_loader.directories.make_dirs, file_name=file_name)"
   ]
  },
  {
   "cell_type": "code",
   "execution_count": null,
   "metadata": {},
   "outputs": [],
   "source": [
    "# Produce y space with deterministic transformation settings.\n",
    "if solver.data_loader.thetas and solver.data_loader.scales and solver.model.z_dim == 2:\n",
    "    test_loader = solver.data_loader.get_new_test_data_loader()\n",
    "    num_rotations = 30\n",
    "    num_scales = 30\n",
    "    num_samples = 20\n",
    "    test_loader = solver.data_loader.get_new_test_data_loader()\n",
    "    x_t, targets = iter(test_loader).next()\n",
    "    x_t = x_t.view(-1, 784).numpy()\n",
    "    thetas = np.linspace(0, 1, num_rotations) * 2 * np.pi\n",
    "    scales = 0.7 + np.linspace(0, 1, num_scales) * 0.6\n",
    "    ys = produce_ys(model.encoder, x_t, scales, thetas, num_samples)\n",
    "    print(\"Labels of data\", targets[:num_samples])"
   ]
  },
  {
   "cell_type": "code",
   "execution_count": null,
   "metadata": {},
   "outputs": [],
   "source": [
    "#ys = torch.load(\"../../results_slurm/test_thing2/ys.pt\")\n",
    "#thetas = np.linspace(0, 1, 30) * 2 * np.pi\n",
    "#scales = 0.7 + np.linspace(0, 1, 30) * 0.6"
   ]
  },
  {
   "cell_type": "code",
   "execution_count": null,
   "metadata": {},
   "outputs": [],
   "source": [
    "# scatter plot of the ys with thetas\n",
    "if solver.data_loader.thetas and solver.data_loader.scales and solver.model.z_dim == 2 and ys is not None:\n",
    "    ticks = np.arange(np.degrees(thetas[0]), np.degrees(thetas[-1])+1, 30).tolist()\n",
    "    labels = np.degrees(thetas)\n",
    "    print(\"Thetas applied: {}\".format(labels))\n",
    "    file_name = solver.data_loader.directories.result_dir + \"/plot_y_space_thetas_fixed_\"\\\n",
    "                + solver.data_loader.dataset + \"_z=\" + str(solver.model.z_dim) + \".png\"\n",
    "    plot_y_space_thetas(ys, ticks, labels, solver.data_loader.directories.make_dirs, file_name, solver.data_loader.dataset)"
   ]
  },
  {
   "cell_type": "code",
   "execution_count": null,
   "metadata": {},
   "outputs": [],
   "source": [
    "# scatter plot of the ys with scales\n",
    "if solver.data_loader.thetas and solver.data_loader.scales and solver.model.z_dim == 2 and ys is not None:\n",
    "    labels = scales\n",
    "    ticks = np.linspace(scales[0], scales[-1], 13).tolist()\n",
    "    ticks = np.around(ticks, decimals=2)\n",
    "    print(\"Scales: {}\".format(labels))\n",
    "    file_name = solver.data_loader.directories.result_dir + \"/plot_y_space_scales_fixed_\"\\\n",
    "                + solver.data_loader.dataset + \"_z=\" + str(solver.model.z_dim) + \".png\"\n",
    "    plot_y_space_scales(ys, ticks, labels, solver.data_loader.directories.make_dirs, file_name, solver.data_loader.dataset)"
   ]
  },
  {
   "cell_type": "code",
   "execution_count": null,
   "metadata": {},
   "outputs": [],
   "source": [
    "# for rotation\n",
    "if solver.model.z_dim == 2 and solver.data_loader.thetas and solver.data_loader.scales and ys is not None:\n",
    "    file_name = solver.data_loader.directories.result_dir + \"/plot_prepro_alpha_params_distribution_\" \\\n",
    "                + solver.data_loader.dataset + \"_z=\" + str(solver.model.z_dim) + \".png\"\n",
    "    plot_prepro_alpha_params_distribution(ys, thetas, \\\n",
    "                                          solver.data_loader.directories.make_dirs, file_name,\\\n",
    "                                          solver.data_loader.dataset)"
   ]
  },
  {
   "cell_type": "code",
   "execution_count": null,
   "metadata": {},
   "outputs": [],
   "source": [
    "# for scaling\n",
    "if solver.model.z_dim == 2 and solver.data_loader.thetas and solver.data_loader.scales and ys is not None:\n",
    "    file_name = solver.data_loader.directories.result_dir + \"/plot_prepro_radius_params_distribution_\" \\\n",
    "                + solver.data_loader.dataset + \"_z=\" + str(solver.model.z_dim) + \".png\"\n",
    "    plot_prepro_radius_params_distribution(ys, scales,\\\n",
    "                                          solver.data_loader.directories.make_dirs, file_name,\\\n",
    "                                          solver.data_loader.dataset)"
   ]
  },
  {
   "cell_type": "code",
   "execution_count": null,
   "metadata": {},
   "outputs": [],
   "source": []
  }
 ],
 "metadata": {
  "kernelspec": {
   "display_name": "Python 3",
   "language": "python",
   "name": "python3"
  },
  "language_info": {
   "codemirror_mode": {
    "name": "ipython",
    "version": 3
   },
   "file_extension": ".py",
   "mimetype": "text/x-python",
   "name": "python",
   "nbconvert_exporter": "python",
   "pygments_lexer": "ipython3",
   "version": "3.7.3"
  }
 },
 "nbformat": 4,
 "nbformat_minor": 2
}
