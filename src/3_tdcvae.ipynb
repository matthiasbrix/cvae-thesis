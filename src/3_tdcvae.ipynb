{
 "cells": [
  {
   "cell_type": "code",
   "execution_count": 1,
   "metadata": {},
   "outputs": [],
   "source": [
    "import os\n",
    "import torch\n",
    "import numpy as np\n",
    "\n",
    "# CODE FILES HERE\n",
    "from models.tdcvae.tdcvae import Encoder, Decoder, TD_Cvae, PATH\n",
    "from solver import Solver\n",
    "from dataloader import DataLoader\n",
    "from preprocessing import Preprocessing\n",
    "from plot import plot_losses, plot_gaussian_distributions, plot_rl_kl, plot_latent_space, plot_latent_space_no_labels, \\\n",
    "plot_latent_manifold, plot_faces_grid, plot_faces_samples_grid, plot_y_space\n",
    "\n",
    "# SETTINGS HERE\n",
    "os.environ['CUDA_LAUNCH_BLOCKING'] = \"1\" # to see the CUDA stack\n",
    "%matplotlib inline\n",
    "# for auto-reloading external modules\n",
    "# see http://stackoverflow.com/questions/1907993/autoreload-of-modules-in-ipython\n",
    "%load_ext autoreload\n",
    "%autoreload 2\n",
    "# supress cluttering warnings in solutions\n",
    "import warnings\n",
    "warnings.filterwarnings('ignore')"
   ]
  },
  {
   "cell_type": "code",
   "execution_count": 2,
   "metadata": {},
   "outputs": [
    {
     "name": "stdout",
     "output_type": "stream",
     "text": [
      "Using device: cpu\n",
      "\n"
     ]
    }
   ],
   "source": [
    "# setting device on GPU if available, else CPU\n",
    "device = torch.device('cuda:0' if torch.cuda.is_available() else 'cpu')\n",
    "print('Using device:', device)\n",
    "print()\n",
    "\n",
    "# Additional Info when using cuda\n",
    "if device.type == 'cuda':\n",
    "    print(torch.cuda.get_device_name(0))\n",
    "    print('Memory Usage:')\n",
    "    print('Allocated:', round(torch.cuda.memory_allocated(0)/1024**3,1), 'GB')\n",
    "    print('Cached:   ', round(torch.cuda.memory_cached(0)/1024**3,1), 'GB')"
   ]
  },
  {
   "cell_type": "code",
   "execution_count": 3,
   "metadata": {},
   "outputs": [],
   "source": [
    "# Choose the dataset and tune hyperparameters here!\n",
    "dataset = \"MNIST\"\n",
    "\n",
    "batch_size = 128\n",
    "optimizer = torch.optim.Adam\n",
    "\n",
    "if dataset == \"MNIST\":\n",
    "    epochs = 16\n",
    "    hidden_dim = 500\n",
    "    z_dim = 2\n",
    "    beta = 1 if z_dim == 2 else 1\n",
    "    step_lr = False\n",
    "    step_config = {\n",
    "        \"step_size\" : 200,\n",
    "        \"gamma\" : 0.1 # or 0.75\n",
    "    }\n",
    "    optim_config = {\n",
    "        \"lr\": 1e-3,\n",
    "        \"weight_decay\": 1e-4\n",
    "    }\n",
    "    thetas = {\n",
    "        \"theta_1\": [-180, 180],\n",
    "        \"theta_2\": [-30, 30]\n",
    "    }\n",
    "    #scales = {\n",
    "    #    \"scale_1\": [1.1, 1.5]\n",
    "    #}"
   ]
  },
  {
   "cell_type": "code",
   "execution_count": 4,
   "metadata": {},
   "outputs": [],
   "source": [
    "data_loader = DataLoader(PATH, batch_size, dataset, z_dim)\n",
    "prepro = Preprocessing(thetas=thetas)\n",
    "model = TD_Cvae(data_loader.input_dim, hidden_dim, z_dim)"
   ]
  },
  {
   "cell_type": "code",
   "execution_count": null,
   "metadata": {
    "scrolled": true
   },
   "outputs": [
    {
     "name": "stdout",
     "output_type": "stream",
     "text": [
      "+++++ START RUN +++++\n",
      "====> Epoch: 1 train set loss avg: 172.9207\n",
      "====> Test set loss avg: 139.6817\n",
      "122.94 seconds for epoch 1\n",
      "====> Epoch: 2 train set loss avg: 133.7193\n",
      "====> Test set loss avg: 132.9207\n",
      "137.53 seconds for epoch 2\n",
      "====> Epoch: 3 train set loss avg: 126.2481\n",
      "====> Test set loss avg: 131.3988\n",
      "118.53 seconds for epoch 3\n",
      "====> Epoch: 4 train set loss avg: 124.0274\n",
      "====> Test set loss avg: 123.9113\n",
      "131.41 seconds for epoch 4\n",
      "====> Epoch: 5 train set loss avg: 119.6756\n",
      "====> Test set loss avg: 121.2717\n",
      "136.65 seconds for epoch 5\n",
      "====> Epoch: 6 train set loss avg: 117.8937\n",
      "====> Test set loss avg: 122.7225\n",
      "135.94 seconds for epoch 6\n",
      "====> Epoch: 7 train set loss avg: 116.8691\n",
      "====> Test set loss avg: 120.6064\n",
      "133.74 seconds for epoch 7\n",
      "====> Epoch: 8 train set loss avg: 113.8046\n",
      "====> Test set loss avg: 118.8450\n",
      "126.94 seconds for epoch 8\n",
      "====> Epoch: 9 train set loss avg: 113.7844\n",
      "====> Test set loss avg: 117.2949\n",
      "130.40 seconds for epoch 9\n",
      "====> Epoch: 10 train set loss avg: 111.7925\n",
      "====> Test set loss avg: 117.1155\n",
      "133.14 seconds for epoch 10\n",
      "====> Epoch: 11 train set loss avg: 111.4500\n",
      "====> Test set loss avg: 115.7299\n",
      "125.14 seconds for epoch 11\n"
     ]
    }
   ],
   "source": [
    "solver = Solver(model, data_loader, optimizer, z_dim, epochs, step_lr, step_config, optim_config, beta, tdcvae_mode=True, prepro=prepro)\n",
    "solver.main()"
   ]
  },
  {
   "cell_type": "code",
   "execution_count": null,
   "metadata": {},
   "outputs": [],
   "source": [
    "#solver = torch.load(\"../results/tdcvae/saved_models/TDCVAE_MNIST_train_loss=163.76_z=2.pt\")\n",
    "#solver.model.eval()"
   ]
  },
  {
   "cell_type": "code",
   "execution_count": null,
   "metadata": {},
   "outputs": [],
   "source": [
    "# Plotting train and test losses for all epochs\n",
    "plot_losses(solver, 4)"
   ]
  },
  {
   "cell_type": "code",
   "execution_count": null,
   "metadata": {},
   "outputs": [],
   "source": [
    "plot_gaussian_distributions(solver)"
   ]
  },
  {
   "cell_type": "code",
   "execution_count": null,
   "metadata": {},
   "outputs": [],
   "source": [
    "# Monitoring the reconstruction loss (likelihood lower bound) and KL divergence\n",
    "DEBUG = 0\n",
    "if DEBUG:\n",
    "    for epoch, train_loss, test_loss, rl, kl in zip(solver.train_loss_history[\"epochs\"], \\\n",
    "                             solver.train_loss_history[\"train_loss_acc\"], \\\n",
    "                             solver.test_loss_history, \\\n",
    "                             solver.train_loss_history[\"recon_loss_acc\"], \\\n",
    "                             solver.train_loss_history[\"kl_diverg_acc\"]):\n",
    "        print(\"epoch: {}, train_loss: {:.2f}, test_loss: {:.2f}, recon. loss: {:.2f}, KL div.: {:.2f}\".format(\n",
    "            epoch, train_loss, test_loss, rl, kl))\n",
    "        print(\"overfitting: {:.2f}\".format(abs(test_loss-train_loss)))\n",
    "plot_rl_kl(solver, 4)"
   ]
  },
  {
   "cell_type": "code",
   "execution_count": null,
   "metadata": {},
   "outputs": [],
   "source": [
    "# visualize q(z) (latent space z)\n",
    "if solver.z_dim == 2:\n",
    "    plot_latent_space(solver)\n",
    "else:\n",
    "    print(\"Plot of latent space not possible as dimension of z is not 2\")"
   ]
  },
  {
   "cell_type": "code",
   "execution_count": null,
   "metadata": {},
   "outputs": [],
   "source": [
    "# Visualizations of learned data manifold for generative models with two-dimensional latent space\n",
    "if solver.z_dim == 2:\n",
    "    n = 21\n",
    "    grid_x = np.linspace(-6, 6, n)\n",
    "    grid_y = np.linspace(-6, 6, n)\n",
    "    x_t = iter(solver.data_loader.train_loader).next()[0][0].view(-1, solver.data_loader.input_dim)\n",
    "    plot_latent_manifold(solver, \"bone\", grid_x, grid_y, n, x_t=x_t)\n",
    "else:\n",
    "    print(\"Plot is not possible as dimension of z is not 2\")"
   ]
  },
  {
   "cell_type": "code",
   "execution_count": null,
   "metadata": {},
   "outputs": [],
   "source": [
    "if solver.z_dim == 2:\n",
    "    plot_y_space(solver)\n",
    "else:\n",
    "    print(\"Plot of y space not possible as dimension of z is not 2\")"
   ]
  },
  {
   "cell_type": "code",
   "execution_count": null,
   "metadata": {},
   "outputs": [],
   "source": [
    "last_train_loss = solver.train_loss_history[\"train_loss_acc\"][-1]\n",
    "torch.save(solver, solver.save_model_dir + \"/TD_CVAE_\" + solver.data_loader.dataset + \"_train_loss=\" + \"{0:.2f}\".format(last_train_loss) + \"_z=\" + str(solver.z_dim) + \".pt\")"
   ]
  },
  {
   "cell_type": "code",
   "execution_count": null,
   "metadata": {},
   "outputs": [],
   "source": []
  }
 ],
 "metadata": {
  "kernelspec": {
   "display_name": "Python 3",
   "language": "python",
   "name": "python3"
  },
  "language_info": {
   "codemirror_mode": {
    "name": "ipython",
    "version": 3
   },
   "file_extension": ".py",
   "mimetype": "text/x-python",
   "name": "python",
   "nbconvert_exporter": "python",
   "pygments_lexer": "ipython3",
   "version": "3.6.8"
  }
 },
 "nbformat": 4,
 "nbformat_minor": 2
}
