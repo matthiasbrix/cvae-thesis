{
 "cells": [
  {
   "cell_type": "code",
   "execution_count": null,
   "metadata": {},
   "outputs": [],
   "source": [
    "import os\n",
    "import torch\n",
    "import numpy as np\n",
    "\n",
    "# CODE FILES HERE\n",
    "from models.tdcvae.tdcvae import Encoder, Decoder, TD_Cvae, MODEL_NAME\n",
    "from solver import Solver\n",
    "from dataloader import DataLoader\n",
    "from directories import Directories\n",
    "from plots import plot_losses, plot_gaussian_distributions, plot_rl_kl, plot_latent_space,\\\n",
    "plot_latent_manifold, plot_prepro_params_distribution, plot_prepro_params_distribution_categories,\\\n",
    "plot_faces_grid, plot_faces_samples_grid\n",
    "\n",
    "# SETTINGS HERE\n",
    "os.environ['CUDA_LAUNCH_BLOCKING'] = \"1\" # to see the CUDA stack\n",
    "%matplotlib inline\n",
    "# for auto-reloading external modules\n",
    "# see http://stackoverflow.com/questions/1907993/autoreload-of-modules-in-ipython\n",
    "%load_ext autoreload\n",
    "%autoreload 2\n",
    "# supress cluttering warnings in solutions\n",
    "import warnings\n",
    "warnings.filterwarnings('ignore')"
   ]
  },
  {
   "cell_type": "code",
   "execution_count": null,
   "metadata": {},
   "outputs": [],
   "source": [
    "# setting device on GPU if available, else CPU\n",
    "device = torch.device('cuda:0' if torch.cuda.is_available() else 'cpu')\n",
    "print('Using device:', device)\n",
    "print()\n",
    "\n",
    "# Additional Info when using cuda\n",
    "if device.type == 'cuda':\n",
    "    print(torch.cuda.get_device_name(0))\n",
    "    print('Memory Usage:')\n",
    "    print('Allocated:', round(torch.cuda.memory_allocated(0)/1024**3,1), 'GB')\n",
    "    print('Cached:   ', round(torch.cuda.memory_cached(0)/1024**3,1), 'GB')"
   ]
  },
  {
   "cell_type": "code",
   "execution_count": null,
   "metadata": {},
   "outputs": [],
   "source": [
    "# Choose the dataset and tune hyperparameters here!\n",
    "dataset = \"LungScans\"\n",
    "\n",
    "batch_size = 4\n",
    "optimizer = torch.optim.Adam\n",
    "\n",
    "if dataset == \"MNIST\":\n",
    "    epochs = 5\n",
    "    hidden_dim_enc = 500\n",
    "    z_dim = 2\n",
    "    beta = 1 if z_dim == 2 else 1\n",
    "    lr_scheduler = torch.optim.lr_scheduler.StepLR\n",
    "    step_config = {\n",
    "        \"step_size\" : 200,\n",
    "        \"gamma\" : 0.1 # or 0.75\n",
    "    }\n",
    "    optim_config = {\n",
    "        \"lr\": 1e-3,\n",
    "        \"weight_decay\": None\n",
    "    }\n",
    "    thetas = {\n",
    "        \"theta_1\": [-180, 180],\n",
    "        \"theta_2\": [-30, 30]\n",
    "    }\n",
    "    scales = {\n",
    "        \"scale_1\": [0.5, 0.9],\n",
    "        \"scale_2\": [0.2, 0.4]\n",
    "    }\n",
    "if dataset == \"LungScans\":\n",
    "    epochs = 1\n",
    "    hidden_dim = 1000\n",
    "    z_dim = 2\n",
    "    beta = 1 if z_dim == 2 else 1\n",
    "    lr_scheduler = torch.optim.lr_scheduler.StepLR\n",
    "    step_config = {\n",
    "        \"step_size\" : 200,\n",
    "        \"gamma\" : 0.1 # or 0.75\n",
    "    }\n",
    "    optim_config = {\n",
    "        \"lr\": 1e-3,\n",
    "        \"weight_decay\": None\n",
    "    }\n",
    "    thetas = {\n",
    "        \"theta_1\": [-45, 45],\n",
    "        \"theta_2\": [-10, 10]\n",
    "    }\n",
    "    scales = {\n",
    "        \"scale_1\": [0.5, 0.9],\n",
    "        \"scale_2\": [0.2, 0.4]\n",
    "    }"
   ]
  },
  {
   "cell_type": "code",
   "execution_count": null,
   "metadata": {
    "scrolled": true
   },
   "outputs": [],
   "source": [
    "directories = Directories(MODEL_NAME, dataset, z_dim)\n",
    "data_loader = DataLoader(directories, batch_size, dataset, thetas=thetas)\n",
    "model = TD_Cvae(data_loader.input_dim, hidden_dim, hidden_dim, z_dim)\n",
    "solver = Solver(model, data_loader, optimizer, z_dim, epochs, beta, step_config, optim_config, lr_scheduler=lr_scheduler, tdcvae_mode=True)\n",
    "solver.main()"
   ]
  },
  {
   "cell_type": "code",
   "execution_count": null,
   "metadata": {},
   "outputs": [],
   "source": [
    "#solver = torch.load(\"../results/saved_models/model_TD_CVAE_MNIST_train_loss=88.61_z=2.pt\", map_location='cpu')\n",
    "#solver.model.eval()"
   ]
  },
  {
   "cell_type": "code",
   "execution_count": null,
   "metadata": {},
   "outputs": [],
   "source": [
    "# Plotting train and test losses for all epochs\n",
    "plot_losses(solver, solver.train_loss_history[\"train_loss_acc\"], solver.test_loss_history)"
   ]
  },
  {
   "cell_type": "code",
   "execution_count": null,
   "metadata": {},
   "outputs": [],
   "source": [
    "# Plotting the gaussian of z space and some metrics about the space\n",
    "plot_gaussian_distributions(solver, len(solver.train_loss_history[\"train_loss_acc\"]))"
   ]
  },
  {
   "cell_type": "code",
   "execution_count": null,
   "metadata": {},
   "outputs": [],
   "source": [
    "# Monitoring the reconstruction loss (likelihood lower bound) and KL divergence\n",
    "DEBUG = 0\n",
    "if DEBUG:\n",
    "    for epoch, train_loss, test_loss, rl, kl in zip(solver.train_loss_history[\"epochs\"], \\\n",
    "        solver.train_loss_history[\"train_loss_acc\"], solver.test_loss_history, \\\n",
    "        solver.train_loss_history[\"recon_loss_acc\"], solver.train_loss_history[\"kl_diverg_acc\"]):\n",
    "        print(\"epoch: {}, train_loss: {:.2f}, test_loss: {:.2f}, recon. loss: {:.2f}, KL div.: {:.2f}\".format(\n",
    "            epoch, train_loss, test_loss, rl, kl))\n",
    "        print(\"overfitting: {:.2f}\".format(abs(test_loss-train_loss)))\n",
    "plot_rl_kl(solver, solver.train_loss_history[\"recon_loss_acc\"], solver.train_loss_history[\"kl_diverg_acc\"])"
   ]
  },
  {
   "cell_type": "code",
   "execution_count": null,
   "metadata": {},
   "outputs": [],
   "source": [
    "# visualize q(z) (latent space z)\n",
    "if solver.z_dim == 2:\n",
    "    for key in solver.data_loader.prepro_params.keys():\n",
    "        if (key == \"theta_diff\" or key == \"scale_diff\") and solver.data_loader.prepro_params[key]:\n",
    "            z_space_labels = np.repeat(solver.data_loader.prepro_params[key], solver.data_loader.batch_size)\n",
    "            if key == \"theta_diff\":\n",
    "                ticks = np.arange(solver.data_loader.theta_range_2[0], solver.data_loader.theta_range_2[1]+1, 10).tolist()\n",
    "            if key == \"scale_diff\":\n",
    "                ticks = np.linspace(solver.data_loader.scale_range_2[0], solver.data_loader.scale_range_2[1], 6).tolist()\n",
    "            plot_latent_space(solver, solver.z_space, ticks, \"z\", key.split(\"_\")[0], z_space_labels)\n",
    "else:\n",
    "    print(\"Plot of latent space not possible as dimension of z is not 2\")"
   ]
  },
  {
   "cell_type": "code",
   "execution_count": null,
   "metadata": {},
   "outputs": [],
   "source": [
    "# visualize q(y)\n",
    "if solver.z_dim == 2:\n",
    "    for key in solver.data_loader.prepro_params.keys():\n",
    "        if key == \"theta_1\" or key == \"scale_1\":\n",
    "            y_space_labels = np.repeat(solver.data_loader.prepro_params[key], solver.data_loader.batch_size)\n",
    "            if key == \"theta_1\":\n",
    "                ticks = np.arange(solver.data_loader.theta_range_1[0], solver.data_loader.theta_range_1[1]+1, 30).tolist()\n",
    "            if key == \"scale_1\":\n",
    "                ticks = [round(0.1*x,1) for x in range(int(solver.data_loader.scale_range_1[0]*10),\\\n",
    "                                                       int(solver.data_loader.scale_range_1[1]+0.1)*10)]\n",
    "            plot_latent_space(solver, solver.y_space, ticks, \"y\", key.split(\"_\")[0], y_space_labels)\n",
    "else:\n",
    "    print(\"Plot of y space not possible as dimension of z is not 2\")"
   ]
  },
  {
   "cell_type": "code",
   "execution_count": null,
   "metadata": {},
   "outputs": [],
   "source": [
    "# Visualizations of learned data manifold for generative models with two-dimensional latent space\n",
    "if solver.z_dim == 2:\n",
    "    n = 11\n",
    "    if solver.data_loader.thetas:\n",
    "        grid_x = np.linspace(-4, 4, n)\n",
    "        grid_y = np.linspace(-4, 4, n)\n",
    "    elif solver.data_loader.scales:\n",
    "        grid_x = np.linspace(-3, 3, n)\n",
    "        grid_y = np.linspace(-3, 3, n)\n",
    "    x_t = iter(solver.data_loader.train_loader).next()[0][0][0].view(-1, solver.data_loader.input_dim)\n",
    "    plot_latent_manifold(solver, \"bone\", grid_x, grid_y, n, x_t=x_t)\n",
    "else:\n",
    "    print(\"Plot is not possible as dimension of z is not 2\")"
   ]
  },
  {
   "cell_type": "code",
   "execution_count": null,
   "metadata": {},
   "outputs": [],
   "source": [
    "# Bar chart over the different theta_1/scale_1 used for y_t\n",
    "if solver.z_dim == 2:\n",
    "    for key in solver.data_loader.prepro_params.keys():\n",
    "        if key == \"theta_1\" or key == \"scale_1\":\n",
    "            if key == \"theta_1\":\n",
    "                xticks = np.arange(solver.data_loader.theta_range_1[0], solver.data_loader.theta_range_1[1]+1, 30).tolist()\n",
    "                plot_prepro_params_distribution(solver, xticks, key, \"Angle distribution for y_t\", \"Count\")\n",
    "            if key == \"scale_1\":\n",
    "                xticks = [round(0.1*x,1) for x in range(int(solver.data_loader.scale_range_1[0]*10),\\\n",
    "                                                       int(solver.data_loader.scale_range_1[1]+0.1)*10)]\n",
    "                plot_prepro_params_distribution(solver, xticks, key, \"Scaling distribution for y_t\", \"Count\")\n",
    "else:\n",
    "    print(\"Plot of y space not possible as dimension of z is not 2\")"
   ]
  },
  {
   "cell_type": "code",
   "execution_count": null,
   "metadata": {},
   "outputs": [],
   "source": [
    "# distribution of angles/scales with categeries/classes of dataset as bins\n",
    "if solver.z_dim == 2 and solver.data_loader.with_labels:\n",
    "    for key in solver.data_loader.prepro_params.keys():\n",
    "        if key == \"theta_1\" or key == \"scale_1\":\n",
    "            ytitle = \"Number of elements in each bin\"\n",
    "            if key == \"theta_1\":\n",
    "                xticks = np.arange(solver.data_loader.theta_range_1[0], solver.data_loader.theta_range_1[1]+1, 30).tolist()\n",
    "                plot_prepro_params_distribution_categories(solver, xticks, key, \"Distribution of angles by labels\", ytitle)\n",
    "            if key == \"scale_1\":\n",
    "                xticks = [round(0.1*x,1) for x in range(int(solver.data_loader.scale_range_1[0]*10),\\\n",
    "                                                       int(solver.data_loader.scale_range_1[1]+0.1)*10)]\n",
    "                plot_prepro_params_distribution_categories(solver, xticks, key, \"Distribution of scales by labels\", ytitle)\n",
    "else:\n",
    "    print(\"Plot of y space not possible as dimension of z is not 2 or no labeled data\")"
   ]
  },
  {
   "cell_type": "code",
   "execution_count": null,
   "metadata": {
    "scrolled": true
   },
   "outputs": [],
   "source": [
    "if solver.z_dim == 2:\n",
    "    for key in solver.data_loader.prepro_params.keys():\n",
    "        if key == \"theta_1\":\n",
    "            alphas = torch.atan2(torch.tensor(solver.y_space[:,0]-np.mean(solver.y_space[:,0])), torch.tensor(solver.y_space[:,1]-np.mean(solver.y_space[:,1])))/(2*np.pi)\n",
    "            alphas = [round(x,2) for x in alphas.tolist()]\n",
    "            alpha_ranges = np.around(np.linspace(np.min(alphas), np.max(alphas), 13), decimals=2)\n",
    "            alpha_bins = list(zip(alpha_ranges[:-1], alpha_ranges[1:])) # alpha bins\n",
    "            xticks = np.arange(solver.data_loader.theta_range_1[0], solver.data_loader.theta_range_1[1]+1, 30).tolist() # theta bins\n",
    "            theta_alpha = list(zip(solver.data_loader.prepro_params[key], alphas)) # each theta_1 and alpha_1 paired\n",
    "            plot_prepro_params_distribution(solver, xticks, key, \"Archtangents distribution for y_t\", \"alpha distribution for theta_1 bins\", data=(theta_alpha, alpha_bins))\n",
    "else:\n",
    "    print(\"Plot of y space not possible as dimension of z is not 2\")"
   ]
  },
  {
   "cell_type": "code",
   "execution_count": null,
   "metadata": {},
   "outputs": [],
   "source": [
    "if solver.z_dim == 2 and solver.data_loader.with_labels:\n",
    "    for key in solver.data_loader.prepro_params.keys():\n",
    "        if key == \"theta_1\":\n",
    "            alphas = torch.atan2(torch.tensor(solver.y_space[:,0]-np.mean(solver.y_space[:,0])), torch.tensor(solver.y_space[:,1]-np.mean(solver.y_space[:,1])))/(2*np.pi)\n",
    "            alphas = [round(x,2) for x in alphas.tolist()]\n",
    "            alpha_ranges = np.around(np.linspace(np.min(alphas), np.max(alphas), 13), decimals=2)\n",
    "            alpha_bins = list(zip(alpha_ranges[:-1], alpha_ranges[1:])) # alpha bins\n",
    "            theta_bins = np.arange(solver.data_loader.theta_range_1[0], solver.data_loader.theta_range_1[1]+1, 30).tolist() # theta bins\n",
    "            theta_alpha_label = list(zip(solver.data_loader.prepro_params[key], alphas, solver.data_labels)) # each theta_1i, alpha_1i, y_i paired\n",
    "            plot_prepro_params_distribution_categories(solver, theta_bins, key, \"Distribution of archtangents by labels\", \"alpha distribution for theta_1 in bins\", data=(theta_alpha_label, alpha_bins))\n",
    "else:\n",
    "    print(\"Plot of y space not possible as dimenshttp://localhost:8888/notebooks/3_tdcvae.ipynb#ion of z is not 2\")"
   ]
  },
  {
   "cell_type": "code",
   "execution_count": null,
   "metadata": {},
   "outputs": [],
   "source": [
    "import matplotlib.pyplot as plt\n",
    "import matplotlib.colors as mcolors\n",
    "import numpy as np\n",
    "'''\n",
    "scatter plots could work, but are probably very crowded. I would prefer a 2d histogram \n",
    "over the two angles with color-coded counts, e.g. with\n",
    "\n",
    "https://docs.scipy.org/doc/numpy/reference/generated/numpy.histogram2d.html\n",
    "\n",
    "what exactly is the bar-plot showing me? the x-axis is theta1, the y-axis is? I would assume this to be a similar bar plot as the last plot. \n",
    "See the attached image as clarification. The black point in the middle is the estimated mean of y_t, the arrow going up is the (0,1)-axis. \n",
    "This allows for every sampled point in y to be represented in polar-coordinates (r,alpha) relative to the mean. \n",
    "and i would like to see the distribution of angles, which you could calculate for the coordinate system \n",
    "given as alpha=atan2(y_1-mean_1,y_2-mean_2)/(2*pi)). \n",
    "i.e. i would like to know the distribution of alpha-values for a given range theta-values, \n",
    "And than i would like to see the same plot for all different classes, to see whether all classes show the same behaviour.\n",
    "'''\n",
    "\n",
    "alphas = torch.atan2(torch.tensor(solver.y_space[:,0]-np.mean(solver.y_space[:,0])), torch.tensor(solver.y_space[:,1]-np.mean(solver.y_space[:,1])))/(2*np.pi)\n",
    "alphas = np.array([round(x,2) for x in alphas.tolist()])\n",
    "thetas = np.repeat(solver.data_loader.prepro_params[\"theta_1\"], solver.data_loader.batch_size)\n",
    "classes = np.array(solver.data_labels)\n",
    "#y_space_labels = np.repeat(solver.data_loader.prepro_params[key], solver.data_loader.batch_size)\n",
    "alpha_ranges = np.around(np.linspace(np.min(alphas), np.max(alphas), 13), decimals=2)\n",
    "alpha_bins = list(zip(alpha_ranges[:-1], alpha_ranges[1:])) # alpha bins\n",
    "# TODO: make alphas bins and count, but then flatten the counts, and mark by counts values where each new color begins.\n",
    "#print(np.sum(counts))\n",
    "\n",
    "paired_cmap = plt.cm.get_cmap(\"Paired\", 12)\n",
    "rvb = mcolors.LinearSegmentedColormap.from_list(\"\", paired_cmap.colors)\n",
    "alpha_ranges = alpha_ranges[:-1]\n",
    "norm = (alpha_ranges - np.min(alpha_ranges))/np.ptp(alpha_ranges)\n",
    "fig, axes = plt.subplots(nrows=solver.data_loader.n_classes, figsize=(10,60))\n",
    "print(alpha_bins)\n",
    "for ax, label in zip(axes.flat, range(solver.data_loader.n_classes)):\n",
    "    indices = np.where(classes == label)[0]\n",
    "    ax.set_title(\"class: {}\".format(label))\n",
    "    counts = np.zeros(len(alpha_bins))\n",
    "    alphas_indices = alphas[indices]\n",
    "    for alpha in alphas_indices:\n",
    "        for bin_idx, (x, y) in enumerate(alpha_bins):\n",
    "            if x <= alpha and alpha < y:\n",
    "                counts[bin_idx] += 1\n",
    "                break\n",
    "    print(counts)\n",
    "    #print(counts.sum(), len(alphas_indices))\n",
    "    #print(counts)\n",
    "    new_counts = np.zeros(len(alphas_indices))\n",
    "    asd = 0\n",
    "    for idx, count in enumerate(counts):\n",
    "        to_fill = counts[idx].repeat(counts[idx])\n",
    "        offset = len(to_fill)\n",
    "        #print(asd, offset, to_fill.shape)\n",
    "        new_counts[asd:(asd+offset)] = to_fill # 0:len(to_fill), len(to_fill):len(new_to_fill)\n",
    "        asd += offset\n",
    "    print(len(new_counts))\n",
    "    scatter = ax.scatter(thetas[indices], alphas_indices, c=new_counts, cmap=plt.cm.get_cmap(\"Paired\", 12))\n",
    "    fig.colorbar(scatter, ax=ax)\n",
    "plt.show()"
   ]
  },
  {
   "cell_type": "code",
   "execution_count": null,
   "metadata": {},
   "outputs": [],
   "source": [
    "from matplotlib.colors import LogNorm\n",
    "from matplotlib.pyplot import *\n",
    "#https://stackoverflow.com/questions/26351621/turn-hist2d-output-into-contours-in-matplotlib\n",
    "x = np.random.normal(5,10,100000)\n",
    "y = np.random.normal(5,10,100000)\n",
    "counts,ybins,xbins,image = hist2d(x,y,bins=100,norm=LogNorm())\n",
    "#contour(counts,extent=[xbins.min(),xbins.max(),ybins.min(),ybins.max()],linewidths=3)\n",
    "\n",
    "from matplotlib.colors import LogNorm\n",
    "import matplotlib.pyplot as plt\n",
    "import numpy as np\n",
    "\n",
    "# normal distribution center at x=0 and y=5\n",
    "x = np.random.randn(100000)\n",
    "y = np.random.randn(100000) + 5\n",
    "\n",
    "fig, ax = plt.subplots()\n",
    "h = ax.hist2d(x, y, bins=40, norm=LogNorm())\n",
    "plt.colorbar(h[3], ax=ax)"
   ]
  },
  {
   "cell_type": "code",
   "execution_count": null,
   "metadata": {},
   "outputs": [],
   "source": [
    "fig, ax = plt.subplots()\n",
    "for color in ['tab:blue', 'tab:orange', 'tab:green']:\n",
    "    n = 750\n",
    "    x, y = np.random.rand(2, n)\n",
    "    scale = 200.0 * np.random.rand(n)\n",
    "    ax.scatter(x, y, c=color, s=scale, label=color,\n",
    "               alpha=0.3, edgecolors='none')\n",
    "\n",
    "ax.legend()\n",
    "ax.grid(True)\n",
    "\n",
    "plt.show()"
   ]
  },
  {
   "cell_type": "code",
   "execution_count": null,
   "metadata": {},
   "outputs": [],
   "source": [
    "paired_cmap = plt.cm.get_cmap(\"Paired\", 12)\n",
    "rvb = mcolors.LinearSegmentedColormap.from_list(\"\", paired_cmap.colors)\n",
    "alpha_ranges = alpha_ranges[:-1]\n",
    "norm = (alpha_ranges - np.min(alpha_ranges))/np.ptp(alpha_ranges)\n",
    "fig, axes = plt.subplots(nrows=solver.data_loader.n_classes, figsize=(10,60))\n",
    "for ax, label in zip(axes.flat, range(solver.data_loader.n_classes)):\n",
    "    indices = np.where(classes == label)[0]\n",
    "    ax.set_title(\"class: {}\".format(label))\n",
    "    counts = np.zeros(len(alpha_bins))\n",
    "    alphas_indices = alphas[indices]\n",
    "    for alpha in alphas:\n",
    "        for bin_idx, (x, y) in enumerate(alpha_bins):\n",
    "            if alpha >= x and alpha < y:\n",
    "                counts[bin_idx] += 1\n",
    "    scatter = ax.scatter(thetas[indices], alphas_indices, c=alphas_indices, cmap=plt.cm.get_cmap(\"Paired\", 12))\n",
    "    fig.colorbar(scatter, ax=ax)\n",
    "plt.show()"
   ]
  },
  {
   "cell_type": "code",
   "execution_count": null,
   "metadata": {},
   "outputs": [],
   "source": [
    "last_train_loss = solver.train_loss_history[\"train_loss_acc\"][-1]\n",
    "torch.save(solver, solver.data_loader.directories.result_dir + \"/model_TD_CVAE_\" + solver.data_loader.dataset + \"_train_loss=\" + \"{0:.2f}\".format(last_train_loss) + \"_z=\" + str(solver.z_dim) + \".pt\")"
   ]
  },
  {
   "cell_type": "code",
   "execution_count": null,
   "metadata": {},
   "outputs": [],
   "source": []
  }
 ],
 "metadata": {
  "kernelspec": {
   "display_name": "Python 3",
   "language": "python",
   "name": "python3"
  },
  "language_info": {
   "codemirror_mode": {
    "name": "ipython",
    "version": 3
   },
   "file_extension": ".py",
   "mimetype": "text/x-python",
   "name": "python",
   "nbconvert_exporter": "python",
   "pygments_lexer": "ipython3",
   "version": "3.6.8"
  }
 },
 "nbformat": 4,
 "nbformat_minor": 2
}
