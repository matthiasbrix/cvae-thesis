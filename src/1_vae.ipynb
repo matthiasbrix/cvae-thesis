{
 "cells": [
  {
   "cell_type": "code",
   "execution_count": 1,
   "metadata": {},
   "outputs": [],
   "source": [
    "import os\n",
    "os.environ['CUDA_LAUNCH_BLOCKING'] = \"1\"\n",
    "\n",
    "import numpy as np\n",
    "import matplotlib.pyplot as plt\n",
    "import matplotlib.gridspec as gridspec\n",
    "import torch\n",
    "import torch.optim\n",
    "\n",
    "# CODE FILES HERE\n",
    "from examples.vae.vae import Encoder, Decoder, Vae, PATH\n",
    "from solver import Solver\n",
    "from dataloader import DataLoader\n",
    "from plot import plot_losses, plot_gaussian_distributions, plot_rl_kl, plot_latent_space, plot_latent_space_no_labels, \\\n",
    "plot_latent_manifold, plot_faces_grid, plot_faces_samples_grid\n",
    "\n",
    "%matplotlib inline\n",
    "#plt.rcParams['figure.figsize'] = (10.0, 8.0) # set default size of plots\n",
    "#plt.rcParams['image.interpolation'] = 'nearest'\n",
    "#plt.rcParams['image.cmap'] = 'gray'\n",
    "\n",
    "# for auto-reloading external modules\n",
    "# see http://stackoverflow.com/questions/1907993/autoreload-of-modules-in-ipython\n",
    "%load_ext autoreload\n",
    "%autoreload 2\n",
    "\n",
    "# supress cluttering warnings in solutions\n",
    "import warnings\n",
    "warnings.filterwarnings('ignore')"
   ]
  },
  {
   "cell_type": "code",
   "execution_count": 2,
   "metadata": {},
   "outputs": [
    {
     "name": "stdout",
     "output_type": "stream",
     "text": [
      "Using device: cuda:0\n",
      "\n",
      "Tesla K80\n",
      "Memory Usage:\n",
      "Allocated: 0.0 GB\n",
      "Cached:    0.0 GB\n"
     ]
    }
   ],
   "source": [
    "# setting device on GPU if available, else CPU\n",
    "device = torch.device('cuda:0' if torch.cuda.is_available() else 'cpu')\n",
    "print('Using device:', device)\n",
    "print()\n",
    "\n",
    "#Additional Info when using cuda\n",
    "if device.type == 'cuda':\n",
    "    print(torch.cuda.get_device_name(0))\n",
    "    print('Memory Usage:')\n",
    "    print('Allocated:', round(torch.cuda.memory_allocated(0)/1024**3,1), 'GB')\n",
    "    print('Cached:   ', round(torch.cuda.memory_cached(0)/1024**3,1), 'GB')"
   ]
  },
  {
   "cell_type": "code",
   "execution_count": 3,
   "metadata": {},
   "outputs": [],
   "source": [
    "batch_size = 128\n",
    "optimizer = torch.optim.Adam"
   ]
  },
  {
   "cell_type": "code",
   "execution_count": 4,
   "metadata": {},
   "outputs": [],
   "source": [
    "# Choose the dataset and tune hyperparameters here!\n",
    "dataset = \"MNIST\"\n",
    "\n",
    "if dataset == \"MNIST\" or dataset == \"EMNIST\":\n",
    "    epochs = 1000\n",
    "    hidden_dim = 500 # Kingma, Welling use 500 neurons, otherwise use 400\n",
    "    z_dim = 20\n",
    "    step_config = {\n",
    "        \"step_size\" : -1,\n",
    "        \"gamma\" : 0.1\n",
    "    }\n",
    "    optim_config = {\n",
    "        \"lr\": 1e-3,\n",
    "        \"weight_decay\": 0\n",
    "    }\n",
    "elif dataset == \"LFW\":\n",
    "    epochs = 500\n",
    "    hidden_dim = 700 # 200 in Kingma for Frey Face but we have highly varying data!\n",
    "    z_dim = 20\n",
    "    step_config = {\n",
    "        \"step_size\" : 50,\n",
    "        \"gamma\" : 0.1\n",
    "    }\n",
    "    optim_config = {\n",
    "        \"lr\": 1e-2,\n",
    "        \"weight_decay\": 1e-5\n",
    "    }\n",
    "elif dataset == \"FF\":\n",
    "    epochs = 100 # 200 for zdim=20, 500 for zdim=2\n",
    "    hidden_dim = 200 # as in Kingma\n",
    "    z_dim = 2\n",
    "    step_config = {\n",
    "        \"step_size\" : 100,\n",
    "        \"gamma\" : 0.1\n",
    "    }\n",
    "    optim_config = {\n",
    "        \"lr\": 1e-3,\n",
    "        \"weight_decay\": 0\n",
    "    }"
   ]
  },
  {
   "cell_type": "code",
   "execution_count": 5,
   "metadata": {},
   "outputs": [],
   "source": [
    "data_loader = DataLoader(PATH, batch_size, dataset, z_dim)\n",
    "encoder = Encoder(data_loader.input_dim, hidden_dim, z_dim)\n",
    "decoder = Decoder(z_dim, hidden_dim, data_loader.input_dim)\n",
    "model = Vae(encoder, decoder)"
   ]
  },
  {
   "cell_type": "code",
   "execution_count": null,
   "metadata": {
    "scrolled": true
   },
   "outputs": [
    {
     "name": "stdout",
     "output_type": "stream",
     "text": [
      "+++++ START RUN +++++\n",
      "====> Epoch: 1 train set loss avg: 160.7459\n",
      "====> Test set loss avg: 146.4831\n",
      "8.525051593780518 seconds for epoch 1\n",
      "====> Epoch: 2 train set loss avg: 119.1114\n",
      "====> Test set loss avg: 149.3690\n",
      "8.49404788017273 seconds for epoch 2\n",
      "====> Epoch: 3 train set loss avg: 112.9560\n",
      "====> Test set loss avg: 152.0677\n",
      "8.51679015159607 seconds for epoch 3\n",
      "====> Epoch: 4 train set loss avg: 110.2105\n",
      "====> Test set loss avg: 151.4261\n",
      "8.535943508148193 seconds for epoch 4\n",
      "====> Epoch: 5 train set loss avg: 108.7398\n",
      "====> Test set loss avg: 150.8326\n",
      "9.048435688018799 seconds for epoch 5\n",
      "====> Epoch: 6 train set loss avg: 107.6259\n",
      "====> Test set loss avg: 153.0621\n",
      "8.875288248062134 seconds for epoch 6\n",
      "====> Epoch: 7 train set loss avg: 106.9314\n",
      "====> Test set loss avg: 151.7552\n",
      "8.44482707977295 seconds for epoch 7\n"
     ]
    }
   ],
   "source": [
    "solver = Solver(model, data_loader, optimizer, z_dim, epochs, step_config, optim_config)\n",
    "solver.run()"
   ]
  },
  {
   "cell_type": "code",
   "execution_count": null,
   "metadata": {},
   "outputs": [],
   "source": [
    "# Insert name of model here if want to load a model, e.g. \"../models/VAE_MNIST_train_loss=151.39_z=2.pt\"\n",
    "#solver = torch.load(\"../models/VAE_LFW_train_loss=1196.46_z=20.pt\")\n",
    "#solver.model.eval()"
   ]
  },
  {
   "cell_type": "code",
   "execution_count": null,
   "metadata": {},
   "outputs": [],
   "source": [
    "# Plotting train and test losses for all epochs\n",
    "if dataset == \"MNIST\":\n",
    "    plot_losses(solver, (100, 210, 10))\n",
    "if dataset == \"FF\":\n",
    "    plot_losses(solver, (330, 410, 10))\n",
    "if dataset == \"LFW\":\n",
    "    plot_losses(solver, (1150, 1260, 10))"
   ]
  },
  {
   "cell_type": "code",
   "execution_count": null,
   "metadata": {},
   "outputs": [],
   "source": [
    "# Plotting histogram of the latent space's distribution, given the computed \\mu and \\sigma\n",
    "plot_gaussian_distributions(solver)"
   ]
  },
  {
   "cell_type": "code",
   "execution_count": null,
   "metadata": {},
   "outputs": [],
   "source": [
    "# Monitoring the reconstruction loss (likelihood lower bound) and KL divergence\n",
    "DEBUG = 0\n",
    "if DEBUG:\n",
    "    for epoch, train_loss, test_loss, rl, kl in zip(solver.train_loss_history[\"epochs\"], \\\n",
    "                             solver.train_loss_history[\"train_loss_acc\"], \\\n",
    "                             solver.test_loss_history, \\\n",
    "                             solver.train_loss_history[\"recon_loss_acc\"], \\\n",
    "                             solver.train_loss_history[\"kl_diverg_acc\"]):\n",
    "        print(\"epoch: {}, train_loss: {:.2f}, test_loss: {:.2f}, recon. loss: {:.2f}, KL div.: {:.2f}\".format(\n",
    "            epoch, train_loss, test_loss, rl, kl))\n",
    "        print(\"overfitting: {:.2f}\".format(abs(test_loss-train_loss)))\n",
    "if dataset == \"MNIST\" and z_dim == 2:\n",
    "    plot_rl_kl(solver, 100, 250)\n",
    "if dataset == \"MNIST\" and z_dim == 20:\n",
    "    plot_rl_kl(solver, 5, 20)\n",
    "if dataset == \"FF\" and z_dim == 2:\n",
    "    plot_rl_kl(solver, 10, 15)\n",
    "if dataset == \"LFW\" and z_dim == 20:\n",
    "    plot_rl_kl(solver, 50, 50)"
   ]
  },
  {
   "cell_type": "code",
   "execution_count": null,
   "metadata": {},
   "outputs": [],
   "source": [
    "# visualize q(z|x) (latent space z)\n",
    "if solver.z_dim == 2:\n",
    "    if solver.loader.dataset != \"FF\":\n",
    "        plot_latent_space(solver)\n",
    "    else:\n",
    "        plot_latent_space_no_labels(solver)\n",
    "else:\n",
    "    print(\"Plot of latent space not possible as dimension of z is not 2\")"
   ]
  },
  {
   "cell_type": "code",
   "execution_count": null,
   "metadata": {},
   "outputs": [],
   "source": [
    "# Visualizations of learned data manifold for generative models with two-dimensional latent space\n",
    "if solver.z_dim == 2:\n",
    "    if solver.loader.dataset == \"MNIST\":\n",
    "        plot_latent_manifold(solver, \"bone\")\n",
    "    if solver.loader.dataset == \"LFW\" or solver.loader.dataset == \"FF\":\n",
    "        plot_latent_manifold(solver, \"gray\", n=10, fig_size=(10, 8))\n",
    "else:\n",
    "    print(\"Plot is not possible as dimension of z is not 2\")"
   ]
  },
  {
   "cell_type": "code",
   "execution_count": null,
   "metadata": {},
   "outputs": [],
   "source": [
    "# plots real faces and in grid samples\n",
    "if dataset == \"LFW\" or dataset == \"FF\":\n",
    "    plot_faces_grid(225, 15, solver)\n",
    "    plot_faces_samples_grid(225, 15, solver)"
   ]
  },
  {
   "cell_type": "code",
   "execution_count": null,
   "metadata": {},
   "outputs": [],
   "source": [
    "last_train_loss = solver.train_loss_history[\"train_loss_acc\"][-1]\n",
    "torch.save(solver, \"../models/VAE_\" + solver.loader.dataset + \"_train_loss=\" + \"{0:.2f}\".format(last_train_loss) + \"_z=\" + str(solver.z_dim) + \".pt\")"
   ]
  },
  {
   "cell_type": "code",
   "execution_count": null,
   "metadata": {},
   "outputs": [],
   "source": []
  }
 ],
 "metadata": {
  "kernelspec": {
   "display_name": "Python 3",
   "language": "python",
   "name": "python3"
  },
  "language_info": {
   "codemirror_mode": {
    "name": "ipython",
    "version": 3
   },
   "file_extension": ".py",
   "mimetype": "text/x-python",
   "name": "python",
   "nbconvert_exporter": "python",
   "pygments_lexer": "ipython3",
   "version": "3.7.2"
  }
 },
 "nbformat": 4,
 "nbformat_minor": 2
}
