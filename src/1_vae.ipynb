{
 "cells": [
  {
   "cell_type": "code",
   "execution_count": null,
   "metadata": {},
   "outputs": [],
   "source": [
    "import os\n",
    "os.environ['CUDA_LAUNCH_BLOCKING'] = \"1\"\n",
    "\n",
    "import numpy as np\n",
    "import matplotlib.pyplot as plt\n",
    "import matplotlib.gridspec as gridspec\n",
    "import torch\n",
    "import torch.optim\n",
    "\n",
    "# CODE FILES HERE\n",
    "from examples.vae.vae import Encoder, Decoder, Vae, PATH\n",
    "from solver import Solver\n",
    "from dataloader import DataLoader\n",
    "from plot import plot_losses, plot_gaussian_distributions, plot_rl_kl, plot_latent_space, plot_latent_space_no_labels, \\\n",
    "plot_latent_manifold, plot_faces_grid, plot_faces_samples_grid\n",
    "\n",
    "%matplotlib inline\n",
    "#plt.rcParams['figure.figsize'] = (10.0, 8.0) # set default size of plots\n",
    "#plt.rcParams['image.interpolation'] = 'nearest'\n",
    "#plt.rcParams['image.cmap'] = 'gray'\n",
    "\n",
    "# for auto-reloading external modules\n",
    "# see http://stackoverflow.com/questions/1907993/autoreload-of-modules-in-ipython\n",
    "%load_ext autoreload\n",
    "%autoreload 2\n",
    "\n",
    "# supress cluttering warnings in solutions\n",
    "import warnings\n",
    "warnings.filterwarnings('ignore')"
   ]
  },
  {
   "cell_type": "code",
   "execution_count": null,
   "metadata": {},
   "outputs": [],
   "source": [
    "# setting device on GPU if available, else CPU\n",
    "device = torch.device('cuda:0' if torch.cuda.is_available() else 'cpu')\n",
    "print('Using device:', device)\n",
    "print()\n",
    "\n",
    "#Additional Info when using cuda\n",
    "if device.type == 'cuda':\n",
    "    print(torch.cuda.get_device_name(0))\n",
    "    print('Memory Usage:')\n",
    "    print('Allocated:', round(torch.cuda.memory_allocated(0)/1024**3,1), 'GB')\n",
    "    print('Cached:   ', round(torch.cuda.memory_cached(0)/1024**3,1), 'GB')"
   ]
  },
  {
   "cell_type": "code",
   "execution_count": null,
   "metadata": {},
   "outputs": [],
   "source": [
    "# Choose the dataset and tune hyperparameters here!\n",
    "dataset = \"FF\"\n",
    "batch_size = 128\n",
    "optimizer = torch.optim.Adam\n",
    "\n",
    "if dataset == \"MNIST\":\n",
    "    epochs = 100\n",
    "    hidden_dim = 500\n",
    "    z_dim = 20\n",
    "    warmup_epochs = 0\n",
    "    beta = 10\n",
    "    step_lr = False\n",
    "    step_config = {\n",
    "        \"step_size\" : 200,\n",
    "        \"gamma\" : 0.1 # or 0.75\n",
    "    }\n",
    "    optim_config = {\n",
    "        \"lr\": 1e-3,\n",
    "        \"weight_decay\": 1e-4\n",
    "    }\n",
    "elif dataset == \"LFW\":\n",
    "    epochs = 500\n",
    "    hidden_dim = 700\n",
    "    z_dim = 20\n",
    "    warmup_epochs = 10\n",
    "    beta = 10\n",
    "    step_lr = True\n",
    "    step_config = {\n",
    "        \"step_size\" : 30,\n",
    "        \"gamma\" : 0.1\n",
    "    }\n",
    "    optim_config = {\n",
    "        \"lr\": 1e-1,\n",
    "        \"weight_decay\": 1e-4\n",
    "    }\n",
    "elif dataset == \"FF\":\n",
    "    epochs = 100\n",
    "    hidden_dim = 200\n",
    "    z_dim = 2\n",
    "    warmup_epochs = 0\n",
    "    beta = 1 if z_dim == 2 else 1\n",
    "    step_lr = True\n",
    "    step_config = {\n",
    "        \"step_size\" : 300,\n",
    "        \"gamma\" : 0.1\n",
    "    }\n",
    "    optim_config = {\n",
    "        \"lr\": 1e-2,\n",
    "        \"weight_decay\": 1e-4\n",
    "    }"
   ]
  },
  {
   "cell_type": "code",
   "execution_count": null,
   "metadata": {},
   "outputs": [],
   "source": [
    "data_loader = DataLoader(PATH, batch_size, dataset, z_dim)\n",
    "encoder = Encoder(data_loader.input_dim, hidden_dim, z_dim)\n",
    "decoder = Decoder(z_dim, hidden_dim, data_loader.input_dim)\n",
    "model = Vae(encoder, decoder)"
   ]
  },
  {
   "cell_type": "code",
   "execution_count": null,
   "metadata": {
    "scrolled": true
   },
   "outputs": [],
   "source": [
    "solver = Solver(model, data_loader, optimizer, z_dim, epochs, step_lr, step_config, optim_config, warmup_epochs, beta, batch_size)\n",
    "solver.run()"
   ]
  },
  {
   "cell_type": "code",
   "execution_count": null,
   "metadata": {},
   "outputs": [],
   "source": [
    "# Insert name of model here if want to load a model, e.g. \"../models/VAE_MNIST_train_loss=151.39_z=2.pt\"\n",
    "#solver = torch.load(\"../models/VAE_MNIST_train_loss=97.15_z=20.pt\")\n",
    "#solver.model.eval()"
   ]
  },
  {
   "cell_type": "code",
   "execution_count": null,
   "metadata": {},
   "outputs": [],
   "source": [
    "# Plotting train and test losses for all epochs\n",
    "plot_losses(solver, 4)"
   ]
  },
  {
   "cell_type": "code",
   "execution_count": null,
   "metadata": {},
   "outputs": [],
   "source": [
    "plot_gaussian_distributions(solver)"
   ]
  },
  {
   "cell_type": "code",
   "execution_count": null,
   "metadata": {},
   "outputs": [],
   "source": [
    "# Monitoring the reconstruction loss (likelihood lower bound) and KL divergence\n",
    "DEBUG = 0\n",
    "if DEBUG:\n",
    "    for epoch, train_loss, test_loss, rl, kl in zip(solver.train_loss_history[\"epochs\"], \\\n",
    "                             solver.train_loss_history[\"train_loss_acc\"], \\\n",
    "                             solver.test_loss_history, \\\n",
    "                             solver.train_loss_history[\"recon_loss_acc\"], \\\n",
    "                             solver.train_loss_history[\"kl_diverg_acc\"]):\n",
    "        print(\"epoch: {}, train_loss: {:.2f}, test_loss: {:.2f}, recon. loss: {:.2f}, KL div.: {:.2f}\".format(\n",
    "            epoch, train_loss, test_loss, rl, kl))\n",
    "        print(\"overfitting: {:.2f}\".format(abs(test_loss-train_loss)))\n",
    "plot_rl_kl(solver, 4)"
   ]
  },
  {
   "cell_type": "code",
   "execution_count": null,
   "metadata": {},
   "outputs": [],
   "source": [
    "# visualize q(z) (latent space z)\n",
    "if solver.z_dim == 2:\n",
    "    if solver.loader.dataset == \"FF\":\n",
    "        plot_latent_space_no_labels(solver)\n",
    "    else:\n",
    "        plot_latent_space(solver)\n",
    "else:\n",
    "    print(\"Plot of latent space not possible as dimension of z is not 2\")"
   ]
  },
  {
   "cell_type": "code",
   "execution_count": null,
   "metadata": {},
   "outputs": [],
   "source": [
    "# Visualizations of learned data manifold for generative models with two-dimensional latent space\n",
    "if solver.z_dim == 2:\n",
    "    if solver.loader.dataset == \"MNIST\":\n",
    "        plot_latent_manifold(solver, \"bone\")\n",
    "    if solver.loader.dataset == \"LFW\" or solver.loader.dataset == \"FF\":\n",
    "        plot_latent_manifold(solver, \"gray\", n=10, fig_size=(10, 8))\n",
    "else:\n",
    "    print(\"Plot is not possible as dimension of z is not 2\")"
   ]
  },
  {
   "cell_type": "code",
   "execution_count": null,
   "metadata": {},
   "outputs": [],
   "source": [
    "# plots real faces and in grid samples\n",
    "if solver.loader.dataset == \"LFW\" or solver.loader.dataset == \"FF\":\n",
    "    plot_faces_grid(225, 15, solver)\n",
    "    plot_faces_samples_grid(225, 15, solver)"
   ]
  },
  {
   "cell_type": "code",
   "execution_count": null,
   "metadata": {},
   "outputs": [],
   "source": [
    "last_train_loss = solver.train_loss_history[\"train_loss_acc\"][-1]\n",
    "torch.save(solver, \"../models/VAE_\" + solver.loader.dataset + \"_train_loss=\" + \"{0:.2f}\".format(last_train_loss) + \"_z=\" + str(solver.z_dim) + \".pt\")"
   ]
  },
  {
   "cell_type": "code",
   "execution_count": null,
   "metadata": {},
   "outputs": [],
   "source": []
  }
 ],
 "metadata": {
  "kernelspec": {
   "display_name": "Python 3",
   "language": "python",
   "name": "python3"
  },
  "language_info": {
   "codemirror_mode": {
    "name": "ipython",
    "version": 3
   },
   "file_extension": ".py",
   "mimetype": "text/x-python",
   "name": "python",
   "nbconvert_exporter": "python",
   "pygments_lexer": "ipython3",
   "version": "3.6.8"
  }
 },
 "nbformat": 4,
 "nbformat_minor": 2
}
