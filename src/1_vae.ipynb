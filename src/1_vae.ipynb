{
 "cells": [
  {
   "cell_type": "code",
   "execution_count": null,
   "metadata": {},
   "outputs": [],
   "source": [
    "import os\n",
    "import torch\n",
    "import scipy.stats as stats\n",
    "import numpy as np\n",
    "\n",
    "# CODE FILES HERE\n",
    "from models.vae.vae import Encoder, Decoder, Vae, MODEL_NAME\n",
    "from solver import Solver\n",
    "from directories import Directories\n",
    "from dataloader import DataLoader\n",
    "from plots import plot_losses, plot_gaussian_distributions, plot_rl_kl, plot_latent_space, \\\n",
    "plot_latent_manifold, plot_faces_grid, plot_faces_samples_grid\n",
    "from auxiliary import get_latent_spaces\n",
    "\n",
    "# SETTINGS HERE\n",
    "os.environ['CUDA_LAUNCH_BLOCKING'] = \"1\" # to see the CUDA stack\n",
    "%matplotlib inline\n",
    "# for auto-reloading external modules\n",
    "# see http://stackoverflow.com/questions/1907993/autoreload-of-modules-in-ipython\n",
    "%load_ext autoreload\n",
    "%autoreload 2\n",
    "# supress cluttering warnings in solutions\n",
    "import warnings\n",
    "warnings.filterwarnings('ignore')\n",
    "# VARIABLES HERE\n",
    "load_model = False"
   ]
  },
  {
   "cell_type": "code",
   "execution_count": null,
   "metadata": {},
   "outputs": [],
   "source": [
    "# setting device on GPU if available, else CPU\n",
    "device = torch.device('cuda:0' if torch.cuda.is_available() else 'cpu')\n",
    "print('Using device:', device)\n",
    "print()\n",
    "\n",
    "# Additional Info when using cuda\n",
    "if device.type == 'cuda':\n",
    "    print(torch.cuda.get_device_name(0))\n",
    "    print('Memory Usage:')\n",
    "    print('Allocated:', round(torch.cuda.memory_allocated(0)/1024**3,1), 'GB')\n",
    "    print('Cached:   ', round(torch.cuda.memory_cached(0)/1024**3,1), 'GB')"
   ]
  },
  {
   "cell_type": "code",
   "execution_count": null,
   "metadata": {},
   "outputs": [],
   "source": [
    "# Choose the dataset and tune hyperparameters here!\n",
    "dataset = \"MNIST\"\n",
    "\n",
    "batch_size = 128\n",
    "optimizer = torch.optim.Adam\n",
    "\n",
    "if dataset == \"MNIST\":\n",
    "    epochs = 5\n",
    "    hidden_dim = 500\n",
    "    z_dim = 2\n",
    "    beta = 4 if z_dim == 2 else 4\n",
    "    batch_norm = False\n",
    "    lr_scheduler = torch.optim.lr_scheduler.StepLR\n",
    "    step_config = {\n",
    "        \"step_size\" : 300,\n",
    "        \"gamma\" : 0.1 # or 0.75\n",
    "    }\n",
    "    optim_config = {\n",
    "        \"lr\": 1e-3,\n",
    "        \"weight_decay\": None\n",
    "    }\n",
    "elif dataset == \"LFW\":\n",
    "    epochs = 30\n",
    "    hidden_dim = 700\n",
    "    z_dim = 40\n",
    "    beta = 1 if z_dim == 2 else 1\n",
    "    batch_norm = True\n",
    "    lr_scheduler = torch.optim.lr_scheduler.StepLR\n",
    "    step_config = {\n",
    "        \"step_size\" : 30,\n",
    "        \"gamma\" : 0.1\n",
    "    }\n",
    "    optim_config = {\n",
    "        \"lr\": 1e-2,\n",
    "        \"weight_decay\": None\n",
    "    }\n",
    "elif dataset == \"FF\":\n",
    "    epochs = 1500\n",
    "    hidden_dim = 200\n",
    "    z_dim = 2\n",
    "    beta = 1\n",
    "    batch_norm = True\n",
    "    lr_scheduler = torch.optim.lr_scheduler.StepLR\n",
    "    step_config = {\n",
    "        \"step_size\" : 300,\n",
    "        \"gamma\" : 0.1\n",
    "    }\n",
    "    optim_config = {\n",
    "        \"lr\": 1e-2,\n",
    "        \"weight_decay\": None\n",
    "    }"
   ]
  },
  {
   "cell_type": "code",
   "execution_count": null,
   "metadata": {
    "scrolled": true
   },
   "outputs": [],
   "source": [
    "directories = Directories(MODEL_NAME, dataset, z_dim, False)\n",
    "data_loader = DataLoader(directories, batch_size, dataset)\n",
    "model = Vae(data_loader.input_dim, hidden_dim, z_dim, beta, batch_norm)\n",
    "solver = Solver(model, data_loader, optimizer, epochs, optim_config, step_config=step_config, lr_scheduler=lr_scheduler)\n",
    "solver.main()"
   ]
  },
  {
   "cell_type": "code",
   "execution_count": null,
   "metadata": {},
   "outputs": [],
   "source": [
    "# Insert name of model here if want to load a model, e.g. solver.save_model_dir + \"/VAE_MNIST_train_loss=151.39_z=2.pt\"\n",
    "#solver = torch.load(solver.save_model_dir + \"/VAE_MNIST_train_loss=97.15_z=20.pt\")\n",
    "#solver.model.eval()\n",
    "#load_model = True"
   ]
  },
  {
   "cell_type": "code",
   "execution_count": null,
   "metadata": {},
   "outputs": [],
   "source": [
    "# Plotting train and test losses for all epochs\n",
    "plot_losses(solver, solver.train_loss_history[\"train_loss_acc\"], solver.test_loss_history)"
   ]
  },
  {
   "cell_type": "code",
   "execution_count": null,
   "metadata": {},
   "outputs": [],
   "source": [
    "# Plotting the gaussian of z space and some metrics about the space\n",
    "plot_gaussian_distributions(solver, len(solver.train_loss_history[\"train_loss_acc\"]))"
   ]
  },
  {
   "cell_type": "code",
   "execution_count": null,
   "metadata": {},
   "outputs": [],
   "source": [
    "# Monitoring the reconstruction loss (likelihood lower bound) and KL divergence\n",
    "DEBUG = 1\n",
    "if DEBUG:\n",
    "    for epoch, train_loss, test_loss, rl, kl in zip(solver.train_loss_history[\"epochs\"], \\\n",
    "                             solver.train_loss_history[\"train_loss_acc\"], \\\n",
    "                             solver.test_loss_history, \\\n",
    "                             solver.train_loss_history[\"recon_loss_acc\"], \\\n",
    "                             solver.train_loss_history[\"kl_diverg_acc\"]):\n",
    "        print(\"epoch: {}, train_loss: {:.2f}, test_loss: {:.2f}, recon. loss: {:.2f}, KL div.: {:.2f}\".format(\n",
    "            epoch, train_loss, test_loss, rl, kl))\n",
    "        print(\"overfitting: {:.2f}\".format(abs(test_loss-train_loss)))\n",
    "plot_rl_kl(solver, solver.train_loss_history[\"recon_loss_acc\"], solver.train_loss_history[\"kl_diverg_acc\"])"
   ]
  },
  {
   "cell_type": "code",
   "execution_count": null,
   "metadata": {},
   "outputs": [],
   "source": [
    "# visualize q(z) (latent space z)\n",
    "if solver.model.z_dim == 2:\n",
    "    z_space, _, labels = get_latent_spaces(solver)\n",
    "    if solver.data_loader.with_labels:\n",
    "        plot_latent_space(solver, z_space, var=\"z\", title=\"classes\", labels=labels.tolist())\n",
    "    else:\n",
    "        plot_latent_space(solver, z_space, var=\"z\")\n",
    "else:\n",
    "    print(\"Plot of latent space not possible as dimension of z is not 2\")"
   ]
  },
  {
   "cell_type": "code",
   "execution_count": null,
   "metadata": {},
   "outputs": [],
   "source": [
    "# Visualizations of learned data manifold for generative models with two-dimensional latent space\n",
    "if solver.model.z_dim == 2 and not load_model:\n",
    "    if solver.data_loader.dataset == \"MNIST\":\n",
    "        n = 20\n",
    "        grid_x = grid_y = np.linspace(-3, 3, n)\n",
    "        plot_latent_manifold(solver, \"bone\", grid_x, grid_y, n)\n",
    "    if solver.data_loader.dataset == \"LFW\" or solver.data_loader.dataset == \"FF\":\n",
    "        n = 10\n",
    "        grid_x = grid_y = np.linspace(-3, 3, n)\n",
    "        plot_latent_manifold(solver, \"gray\", grid_x, grid_y, n, fig_size=(10, 8))\n",
    "else:\n",
    "    print(\"Plot is not possible as dimension of z is not 2 or model is load\")"
   ]
  },
  {
   "cell_type": "code",
   "execution_count": null,
   "metadata": {},
   "outputs": [],
   "source": [
    "# plots real faces and in grid samples\n",
    "if solver.data_loader.dataset == \"LFW\" or solver.data_loader.dataset == \"FF\":\n",
    "    n = 225\n",
    "    n_cols = 15\n",
    "    plot_faces_grid(n, n_cols, solver)\n",
    "    plot_faces_samples_grid(n, n_cols, solver)"
   ]
  },
  {
   "cell_type": "code",
   "execution_count": null,
   "metadata": {},
   "outputs": [],
   "source": [
    "last_train_loss = solver.train_loss_history[\"train_loss_acc\"][-1]\n",
    "torch.save(solver, solver.data_loader.directories.result_dir + \"/model_VAE_\" + solver.data_loader.dataset + \"_train_loss=\" + \"{0:.2f}\".format(last_train_loss) + \"_z=\" + str(solver.model.z_dim) + \".pt\")"
   ]
  },
  {
   "cell_type": "code",
   "execution_count": null,
   "metadata": {},
   "outputs": [],
   "source": []
  }
 ],
 "metadata": {
  "kernelspec": {
   "display_name": "Python 3",
   "language": "python",
   "name": "python3"
  },
  "language_info": {
   "codemirror_mode": {
    "name": "ipython",
    "version": 3
   },
   "file_extension": ".py",
   "mimetype": "text/x-python",
   "name": "python",
   "nbconvert_exporter": "python",
   "pygments_lexer": "ipython3",
   "version": "3.6.8"
  }
 },
 "nbformat": 4,
 "nbformat_minor": 2
}
