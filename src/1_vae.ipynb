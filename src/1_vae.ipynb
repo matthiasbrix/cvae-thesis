{
 "cells": [
  {
   "cell_type": "code",
   "execution_count": null,
   "metadata": {},
   "outputs": [],
   "source": [
    "import os\n",
    "import torch\n",
    "import scipy.stats as stats\n",
    "import numpy as np\n",
    "\n",
    "# CODE FILES HERE\n",
    "from model_params import get_model_data_vae\n",
    "from models.vae.vae import Vae\n",
    "from solver import Solver\n",
    "from directories import Directories\n",
    "from dataloader import DataLoader\n",
    "from plots import plot_losses, plot_gaussian_distributions, plot_rl_kl, plot_latent_space, \\\n",
    "plot_latent_manifold, plot_faces_grid, plot_faces_samples_grid\n",
    "from auxiliary import get_latent_spaces\n",
    "\n",
    "# SETTINGS HERE\n",
    "os.environ['CUDA_LAUNCH_BLOCKING'] = \"1\" # to see the CUDA stack\n",
    "%matplotlib inline\n",
    "# for auto-reloading external modules\n",
    "# see http://stackoverflow.com/questions/1907993/autoreload-of-modules-in-ipython\n",
    "%load_ext autoreload\n",
    "%autoreload 2\n",
    "# supress cluttering warnings in solutions\n",
    "import warnings\n",
    "warnings.filterwarnings('ignore')"
   ]
  },
  {
   "cell_type": "code",
   "execution_count": null,
   "metadata": {},
   "outputs": [],
   "source": [
    "# setting device on GPU if available, else CPU\n",
    "device = torch.device('cuda:0' if torch.cuda.is_available() else 'cpu')\n",
    "print('Using device:', device)\n",
    "print()\n",
    "\n",
    "# Additional Info when using cuda\n",
    "if device.type == 'cuda':\n",
    "    print(torch.cuda.get_device_name(0))\n",
    "    print('Memory Usage:')\n",
    "    print('Allocated:', round(torch.cuda.memory_allocated(0)/1024**3,1), 'GB')\n",
    "    print('Cached:   ', round(torch.cuda.memory_cached(0)/1024**3,1), 'GB')"
   ]
  },
  {
   "cell_type": "code",
   "execution_count": null,
   "metadata": {},
   "outputs": [],
   "source": [
    "# Choose either MNIST/LFW/FF\n",
    "dataset_arg = \"ff\"\n",
    "data = get_model_data_vae(dataset_arg)"
   ]
  },
  {
   "cell_type": "code",
   "execution_count": null,
   "metadata": {
    "scrolled": true
   },
   "outputs": [],
   "source": [
    "directories = Directories(\"vae\", dataset_arg.lower(), data[\"z_dim\"], make_dirs=False)\n",
    "data_loader = DataLoader(directories, data[\"batch_size\"], dataset_arg.lower())\n",
    "model = Vae(data_loader.input_dim, data[\"hidden_dim\"], data[\"z_dim\"], data[\"beta\"], data[\"batch_norm\"])\n",
    "solver = Solver(model, data_loader, data[\"optimizer\"], data[\"epochs\"], data[\"optim_config\"],\\\n",
    "            step_config=data[\"step_config\"], lr_scheduler=data[\"lr_scheduler\"], save_model_state=False)\n",
    "solver.main()"
   ]
  },
  {
   "cell_type": "code",
   "execution_count": null,
   "metadata": {},
   "outputs": [],
   "source": [
    "# Insert name of model here if want to load a model, e.g. solver.save_model_dir + \"/VAE_MNIST_train_loss=151.39_z=2.pt\"\n",
    "#solver = torch.load(solver.save_model_dir + \"/VAE_MNIST_train_loss=97.15_z=20.pt\")\n",
    "#solver.model.eval()\n",
    "#solver.data_loader.directories.make_dirs = False"
   ]
  },
  {
   "cell_type": "code",
   "execution_count": null,
   "metadata": {},
   "outputs": [],
   "source": [
    "# Plotting train and test losses for all epochs\n",
    "plot_losses(solver, solver.train_loss_history[\"train_loss_acc\"], solver.test_loss_history)"
   ]
  },
  {
   "cell_type": "code",
   "execution_count": null,
   "metadata": {},
   "outputs": [],
   "source": [
    "# Plotting the gaussian of z space and some metrics about the space\n",
    "plot_gaussian_distributions(solver, len(solver.train_loss_history[\"train_loss_acc\"]))"
   ]
  },
  {
   "cell_type": "code",
   "execution_count": null,
   "metadata": {},
   "outputs": [],
   "source": [
    "# Monitoring the reconstruction loss (likelihood lower bound) and KL divergence\n",
    "DEBUG = 1\n",
    "if DEBUG:\n",
    "    for epoch, train_loss, test_loss, rl, kl in zip(solver.train_loss_history[\"epochs\"], \\\n",
    "                             solver.train_loss_history[\"train_loss_acc\"], \\\n",
    "                             solver.test_loss_history, \\\n",
    "                             solver.train_loss_history[\"recon_loss_acc\"], \\\n",
    "                             solver.train_loss_history[\"kl_diverg_acc\"]):\n",
    "        print(\"epoch: {}, train_loss: {:.2f}, test_loss: {:.2f}, recon. loss: {:.2f}, KL div.: {:.2f}\".format(\n",
    "            epoch, train_loss, test_loss, rl, kl))\n",
    "plot_rl_kl(solver, solver.train_loss_history[\"recon_loss_acc\"], solver.train_loss_history[\"kl_diverg_acc\"])"
   ]
  },
  {
   "cell_type": "code",
   "execution_count": null,
   "metadata": {},
   "outputs": [],
   "source": [
    "# visualize q(z) (latent space z)\n",
    "if solver.model.z_dim == 2:\n",
    "    if solver.data_loader.with_labels:\n",
    "        z_space, _, labels = get_latent_spaces(solver)\n",
    "        ticks = np.arange(0, solver.data_loader.n_classes, 1)\n",
    "        plot_latent_space(solver, z_space, var=\"z\", ticks=ticks, title=\"classes\", labels=labels.tolist(), colors=solver.data_loader.n_classes)\n",
    "    else:\n",
    "        z_space, _, _ = get_latent_spaces(solver)\n",
    "        plot_latent_space(solver, z_space, var=\"z\")\n",
    "else:\n",
    "    print(\"Plot of latent space not possible as dimension of z is not 2\")"
   ]
  },
  {
   "cell_type": "code",
   "execution_count": null,
   "metadata": {},
   "outputs": [],
   "source": [
    "# Visualizations of learned data manifold for generative models with two-dimensional latent space\n",
    "if solver.model.z_dim == 2:\n",
    "    if solver.data_loader.dataset == \"mnist\":\n",
    "        n = 20\n",
    "        grid_x = grid_y = np.linspace(-3, 3, n)\n",
    "        plot_latent_manifold(solver, \"bone\", grid_x, grid_y, n)\n",
    "    if solver.data_loader.dataset == \"lfw\" or solver.data_loader.dataset == \"ff\":\n",
    "        n = 10\n",
    "        grid_x = grid_y = np.linspace(-3, 3, n)\n",
    "        plot_latent_manifold(solver, \"gray\", grid_x, grid_y, n, fig_size=(10, 8))\n",
    "else:\n",
    "    print(\"Plot is not possible as dimension of z is not 2\")"
   ]
  },
  {
   "cell_type": "code",
   "execution_count": null,
   "metadata": {},
   "outputs": [],
   "source": [
    "# plots real faces and in grid samples\n",
    "if solver.data_loader.dataset == \"lfw\" or solver.data_loader.dataset == \"ff\":\n",
    "    n = 225\n",
    "    n_cols = 15\n",
    "    plot_faces_grid(n, n_cols, solver)\n",
    "    plot_faces_samples_grid(n, n_cols, solver)"
   ]
  },
  {
   "cell_type": "code",
   "execution_count": null,
   "metadata": {},
   "outputs": [],
   "source": []
  }
 ],
 "metadata": {
  "kernelspec": {
   "display_name": "Python 3",
   "language": "python",
   "name": "python3"
  },
  "language_info": {
   "codemirror_mode": {
    "name": "ipython",
    "version": 3
   },
   "file_extension": ".py",
   "mimetype": "text/x-python",
   "name": "python",
   "nbconvert_exporter": "python",
   "pygments_lexer": "ipython3",
   "version": "3.7.3"
  }
 },
 "nbformat": 4,
 "nbformat_minor": 2
}
